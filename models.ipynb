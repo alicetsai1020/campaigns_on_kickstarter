{
 "cells": [
  {
   "cell_type": "code",
   "execution_count": 1,
   "metadata": {},
   "outputs": [],
   "source": [
    "import pandas as pd\n",
    "import numpy as np\n",
    "import matplotlib.pyplot as plt\n",
    "from matplotlib import cm\n",
    "import seaborn as sns"
   ]
  },
  {
   "cell_type": "code",
   "execution_count": 81,
   "metadata": {},
   "outputs": [],
   "source": [
    "from sklearn.feature_extraction.text import CountVectorizer\n",
    "from sklearn.feature_extraction.text import TfidfVectorizer\n",
    "\n",
    "from sklearn.preprocessing import StandardScaler\n",
    "from sklearn.model_selection import train_test_split, KFold, cross_val_score, GridSearchCV\n",
    "from sklearn.linear_model import LogisticRegression\n",
    "from sklearn.ensemble import RandomForestClassifier\n",
    "from sklearn.ensemble import GradientBoostingClassifier\n",
    "\n",
    "from sklearn.metrics import confusion_matrix, plot_confusion_matrix, classification_report\n",
    "from sklearn.metrics import accuracy_score, f1_score, mean_squared_error\n",
    "from sklearn.metrics import plot_roc_curve\n",
    "from sklearn.metrics import roc_curve, auc"
   ]
  },
  {
   "cell_type": "code",
   "execution_count": 84,
   "metadata": {},
   "outputs": [],
   "source": [
    "from sklearn.inspection import permutation_importance, plot_partial_dependence, partial_dependence"
   ]
  },
  {
   "cell_type": "code",
   "execution_count": 3,
   "metadata": {},
   "outputs": [],
   "source": [
    "import itertools"
   ]
  },
  {
   "cell_type": "code",
   "execution_count": 4,
   "metadata": {},
   "outputs": [],
   "source": [
    "df = pd.read_csv('processed_data.csv')"
   ]
  },
  {
   "cell_type": "code",
   "execution_count": 5,
   "metadata": {},
   "outputs": [
    {
     "name": "stdout",
     "output_type": "stream",
     "text": [
      "<class 'pandas.core.frame.DataFrame'>\n",
      "RangeIndex: 198538 entries, 0 to 198537\n",
      "Data columns (total 24 columns):\n",
      " #   Column                   Non-Null Count   Dtype  \n",
      "---  ------                   --------------   -----  \n",
      " 0   id                       198538 non-null  int64  \n",
      " 1   backers_count            198538 non-null  int64  \n",
      " 2   category                 198538 non-null  object \n",
      " 3   country                  198538 non-null  object \n",
      " 4   created_at               198538 non-null  object \n",
      " 5   deadline                 198538 non-null  object \n",
      " 6   is_starrable             198538 non-null  bool   \n",
      " 7   launched_at              198538 non-null  object \n",
      " 8   name                     198538 non-null  object \n",
      " 9   staff_pick               198538 non-null  bool   \n",
      " 10  state                    198538 non-null  object \n",
      " 11  usd_pledged              198538 non-null  float64\n",
      " 12  sub_category             191366 non-null  object \n",
      " 13  pledge_per_backer        186173 non-null  float64\n",
      " 14  usd_goal                 198538 non-null  float64\n",
      " 15  creation_to_launch_days  198538 non-null  int64  \n",
      " 16  campaign_days            198538 non-null  int64  \n",
      " 17  launch_day               198538 non-null  object \n",
      " 18  deadline_day             198538 non-null  object \n",
      " 19  launch_month             198538 non-null  object \n",
      " 20  deadline_month           198538 non-null  object \n",
      " 21  launch_time              198538 non-null  object \n",
      " 22  deadline_time            198538 non-null  object \n",
      " 23  clean_text               198538 non-null  object \n",
      "dtypes: bool(2), float64(3), int64(4), object(15)\n",
      "memory usage: 33.7+ MB\n"
     ]
    }
   ],
   "source": [
    "df.info()"
   ]
  },
  {
   "cell_type": "code",
   "execution_count": 6,
   "metadata": {},
   "outputs": [
    {
     "data": {
      "text/plain": [
       "Index(['id', 'backers_count', 'category', 'country', 'created_at', 'deadline',\n",
       "       'is_starrable', 'launched_at', 'name', 'staff_pick', 'state',\n",
       "       'usd_pledged', 'sub_category', 'pledge_per_backer', 'usd_goal',\n",
       "       'creation_to_launch_days', 'campaign_days', 'launch_day',\n",
       "       'deadline_day', 'launch_month', 'deadline_month', 'launch_time',\n",
       "       'deadline_time', 'clean_text'],\n",
       "      dtype='object')"
      ]
     },
     "execution_count": 6,
     "metadata": {},
     "output_type": "execute_result"
    }
   ],
   "source": [
    "df.columns"
   ]
  },
  {
   "cell_type": "code",
   "execution_count": 7,
   "metadata": {},
   "outputs": [
    {
     "data": {
      "text/plain": [
       "(198538, 24)"
      ]
     },
     "execution_count": 7,
     "metadata": {},
     "output_type": "execute_result"
    }
   ],
   "source": [
    "df.shape"
   ]
  },
  {
   "cell_type": "markdown",
   "metadata": {},
   "source": [
    "## Preparing target and features"
   ]
  },
  {
   "cell_type": "code",
   "execution_count": 8,
   "metadata": {},
   "outputs": [
    {
     "data": {
      "text/html": [
       "<div>\n",
       "<style scoped>\n",
       "    .dataframe tbody tr th:only-of-type {\n",
       "        vertical-align: middle;\n",
       "    }\n",
       "\n",
       "    .dataframe tbody tr th {\n",
       "        vertical-align: top;\n",
       "    }\n",
       "\n",
       "    .dataframe thead th {\n",
       "        text-align: right;\n",
       "    }\n",
       "</style>\n",
       "<table border=\"1\" class=\"dataframe\">\n",
       "  <thead>\n",
       "    <tr style=\"text-align: right;\">\n",
       "      <th></th>\n",
       "      <th>category</th>\n",
       "      <th>country</th>\n",
       "      <th>staff_pick</th>\n",
       "      <th>state</th>\n",
       "      <th>usd_goal</th>\n",
       "      <th>creation_to_launch_days</th>\n",
       "      <th>campaign_days</th>\n",
       "      <th>clean_text</th>\n",
       "    </tr>\n",
       "  </thead>\n",
       "  <tbody>\n",
       "    <tr>\n",
       "      <th>0</th>\n",
       "      <td>crafts</td>\n",
       "      <td>US</td>\n",
       "      <td>False</td>\n",
       "      <td>failed</td>\n",
       "      <td>1000.00</td>\n",
       "      <td>1</td>\n",
       "      <td>30</td>\n",
       "      <td>look donations feedback ideas wood work start ...</td>\n",
       "    </tr>\n",
       "    <tr>\n",
       "      <th>1</th>\n",
       "      <td>comics</td>\n",
       "      <td>US</td>\n",
       "      <td>True</td>\n",
       "      <td>successful</td>\n",
       "      <td>20000.00</td>\n",
       "      <td>115</td>\n",
       "      <td>30</td>\n",
       "      <td>logan mcbride magical girl destiny shes yearol...</td>\n",
       "    </tr>\n",
       "    <tr>\n",
       "      <th>2</th>\n",
       "      <td>crafts</td>\n",
       "      <td>DE</td>\n",
       "      <td>True</td>\n",
       "      <td>successful</td>\n",
       "      <td>2847.66</td>\n",
       "      <td>8</td>\n",
       "      <td>24</td>\n",
       "      <td>wonderful popup christmas card open greet card...</td>\n",
       "    </tr>\n",
       "    <tr>\n",
       "      <th>3</th>\n",
       "      <td>crafts</td>\n",
       "      <td>CA</td>\n",
       "      <td>False</td>\n",
       "      <td>successful</td>\n",
       "      <td>75.41</td>\n",
       "      <td>7</td>\n",
       "      <td>30</td>\n",
       "      <td>hi everyone love animals love crochet want com...</td>\n",
       "    </tr>\n",
       "    <tr>\n",
       "      <th>4</th>\n",
       "      <td>design</td>\n",
       "      <td>US</td>\n",
       "      <td>False</td>\n",
       "      <td>successful</td>\n",
       "      <td>7500.00</td>\n",
       "      <td>777</td>\n",
       "      <td>40</td>\n",
       "      <td>slim earthfriendly hangers innovative notch el...</td>\n",
       "    </tr>\n",
       "  </tbody>\n",
       "</table>\n",
       "</div>"
      ],
      "text/plain": [
       "  category country  staff_pick       state  usd_goal  creation_to_launch_days  \\\n",
       "0   crafts      US       False      failed   1000.00                        1   \n",
       "1   comics      US        True  successful  20000.00                      115   \n",
       "2   crafts      DE        True  successful   2847.66                        8   \n",
       "3   crafts      CA       False  successful     75.41                        7   \n",
       "4   design      US       False  successful   7500.00                      777   \n",
       "\n",
       "   campaign_days                                         clean_text  \n",
       "0             30  look donations feedback ideas wood work start ...  \n",
       "1             30  logan mcbride magical girl destiny shes yearol...  \n",
       "2             24  wonderful popup christmas card open greet card...  \n",
       "3             30  hi everyone love animals love crochet want com...  \n",
       "4             40  slim earthfriendly hangers innovative notch el...  "
      ]
     },
     "execution_count": 8,
     "metadata": {},
     "output_type": "execute_result"
    }
   ],
   "source": [
    "# Dropping columns and creating new dataframe\n",
    "df_transformed = df.drop(['id', 'name', 'backers_count', 'created_at', 'deadline', 'is_starrable', \n",
    "                          'launched_at', 'usd_pledged', 'sub_category', 'pledge_per_backer',\n",
    "                         'launch_day', 'deadline_day', 'launch_month', 'deadline_month',\n",
    "                         'launch_time', 'deadline_time'], axis=1)\n",
    "df_transformed.head()"
   ]
  },
  {
   "cell_type": "code",
   "execution_count": 9,
   "metadata": {},
   "outputs": [],
   "source": [
    "df_transformed['state'] = df_transformed['state'].replace({'failed': 0, 'successful': 1})"
   ]
  },
  {
   "cell_type": "code",
   "execution_count": 10,
   "metadata": {},
   "outputs": [],
   "source": [
    "# Converting boolean features to string to include them in one-hot encoding\n",
    "df_transformed['staff_pick'] = df_transformed['staff_pick'].astype(str)"
   ]
  },
  {
   "cell_type": "code",
   "execution_count": 11,
   "metadata": {},
   "outputs": [],
   "source": [
    "# Creating dummy variables\n",
    "df_transformed = pd.get_dummies(df_transformed, columns=['staff_pick', 'category', 'country'], dummy_na=True)"
   ]
  },
  {
   "cell_type": "code",
   "execution_count": 12,
   "metadata": {},
   "outputs": [
    {
     "data": {
      "text/html": [
       "<div>\n",
       "<style scoped>\n",
       "    .dataframe tbody tr th:only-of-type {\n",
       "        vertical-align: middle;\n",
       "    }\n",
       "\n",
       "    .dataframe tbody tr th {\n",
       "        vertical-align: top;\n",
       "    }\n",
       "\n",
       "    .dataframe thead th {\n",
       "        text-align: right;\n",
       "    }\n",
       "</style>\n",
       "<table border=\"1\" class=\"dataframe\">\n",
       "  <thead>\n",
       "    <tr style=\"text-align: right;\">\n",
       "      <th></th>\n",
       "      <th>state</th>\n",
       "      <th>usd_goal</th>\n",
       "      <th>creation_to_launch_days</th>\n",
       "      <th>campaign_days</th>\n",
       "      <th>clean_text</th>\n",
       "      <th>staff_pick_False</th>\n",
       "      <th>staff_pick_True</th>\n",
       "      <th>staff_pick_nan</th>\n",
       "      <th>category_art</th>\n",
       "      <th>category_comics</th>\n",
       "      <th>...</th>\n",
       "      <th>country_MX</th>\n",
       "      <th>country_NL</th>\n",
       "      <th>country_NO</th>\n",
       "      <th>country_NZ</th>\n",
       "      <th>country_PL</th>\n",
       "      <th>country_SE</th>\n",
       "      <th>country_SG</th>\n",
       "      <th>country_SI</th>\n",
       "      <th>country_US</th>\n",
       "      <th>country_nan</th>\n",
       "    </tr>\n",
       "  </thead>\n",
       "  <tbody>\n",
       "    <tr>\n",
       "      <th>0</th>\n",
       "      <td>0</td>\n",
       "      <td>1000.00</td>\n",
       "      <td>1</td>\n",
       "      <td>30</td>\n",
       "      <td>look donations feedback ideas wood work start ...</td>\n",
       "      <td>1</td>\n",
       "      <td>0</td>\n",
       "      <td>0</td>\n",
       "      <td>0</td>\n",
       "      <td>0</td>\n",
       "      <td>...</td>\n",
       "      <td>0</td>\n",
       "      <td>0</td>\n",
       "      <td>0</td>\n",
       "      <td>0</td>\n",
       "      <td>0</td>\n",
       "      <td>0</td>\n",
       "      <td>0</td>\n",
       "      <td>0</td>\n",
       "      <td>1</td>\n",
       "      <td>0</td>\n",
       "    </tr>\n",
       "    <tr>\n",
       "      <th>1</th>\n",
       "      <td>1</td>\n",
       "      <td>20000.00</td>\n",
       "      <td>115</td>\n",
       "      <td>30</td>\n",
       "      <td>logan mcbride magical girl destiny shes yearol...</td>\n",
       "      <td>0</td>\n",
       "      <td>1</td>\n",
       "      <td>0</td>\n",
       "      <td>0</td>\n",
       "      <td>1</td>\n",
       "      <td>...</td>\n",
       "      <td>0</td>\n",
       "      <td>0</td>\n",
       "      <td>0</td>\n",
       "      <td>0</td>\n",
       "      <td>0</td>\n",
       "      <td>0</td>\n",
       "      <td>0</td>\n",
       "      <td>0</td>\n",
       "      <td>1</td>\n",
       "      <td>0</td>\n",
       "    </tr>\n",
       "    <tr>\n",
       "      <th>2</th>\n",
       "      <td>1</td>\n",
       "      <td>2847.66</td>\n",
       "      <td>8</td>\n",
       "      <td>24</td>\n",
       "      <td>wonderful popup christmas card open greet card...</td>\n",
       "      <td>0</td>\n",
       "      <td>1</td>\n",
       "      <td>0</td>\n",
       "      <td>0</td>\n",
       "      <td>0</td>\n",
       "      <td>...</td>\n",
       "      <td>0</td>\n",
       "      <td>0</td>\n",
       "      <td>0</td>\n",
       "      <td>0</td>\n",
       "      <td>0</td>\n",
       "      <td>0</td>\n",
       "      <td>0</td>\n",
       "      <td>0</td>\n",
       "      <td>0</td>\n",
       "      <td>0</td>\n",
       "    </tr>\n",
       "    <tr>\n",
       "      <th>3</th>\n",
       "      <td>1</td>\n",
       "      <td>75.41</td>\n",
       "      <td>7</td>\n",
       "      <td>30</td>\n",
       "      <td>hi everyone love animals love crochet want com...</td>\n",
       "      <td>1</td>\n",
       "      <td>0</td>\n",
       "      <td>0</td>\n",
       "      <td>0</td>\n",
       "      <td>0</td>\n",
       "      <td>...</td>\n",
       "      <td>0</td>\n",
       "      <td>0</td>\n",
       "      <td>0</td>\n",
       "      <td>0</td>\n",
       "      <td>0</td>\n",
       "      <td>0</td>\n",
       "      <td>0</td>\n",
       "      <td>0</td>\n",
       "      <td>0</td>\n",
       "      <td>0</td>\n",
       "    </tr>\n",
       "    <tr>\n",
       "      <th>4</th>\n",
       "      <td>1</td>\n",
       "      <td>7500.00</td>\n",
       "      <td>777</td>\n",
       "      <td>40</td>\n",
       "      <td>slim earthfriendly hangers innovative notch el...</td>\n",
       "      <td>1</td>\n",
       "      <td>0</td>\n",
       "      <td>0</td>\n",
       "      <td>0</td>\n",
       "      <td>0</td>\n",
       "      <td>...</td>\n",
       "      <td>0</td>\n",
       "      <td>0</td>\n",
       "      <td>0</td>\n",
       "      <td>0</td>\n",
       "      <td>0</td>\n",
       "      <td>0</td>\n",
       "      <td>0</td>\n",
       "      <td>0</td>\n",
       "      <td>1</td>\n",
       "      <td>0</td>\n",
       "    </tr>\n",
       "  </tbody>\n",
       "</table>\n",
       "<p>5 rows × 49 columns</p>\n",
       "</div>"
      ],
      "text/plain": [
       "   state  usd_goal  creation_to_launch_days  campaign_days  \\\n",
       "0      0   1000.00                        1             30   \n",
       "1      1  20000.00                      115             30   \n",
       "2      1   2847.66                        8             24   \n",
       "3      1     75.41                        7             30   \n",
       "4      1   7500.00                      777             40   \n",
       "\n",
       "                                          clean_text  staff_pick_False  \\\n",
       "0  look donations feedback ideas wood work start ...                 1   \n",
       "1  logan mcbride magical girl destiny shes yearol...                 0   \n",
       "2  wonderful popup christmas card open greet card...                 0   \n",
       "3  hi everyone love animals love crochet want com...                 1   \n",
       "4  slim earthfriendly hangers innovative notch el...                 1   \n",
       "\n",
       "   staff_pick_True  staff_pick_nan  category_art  category_comics  ...  \\\n",
       "0                0               0             0                0  ...   \n",
       "1                1               0             0                1  ...   \n",
       "2                1               0             0                0  ...   \n",
       "3                0               0             0                0  ...   \n",
       "4                0               0             0                0  ...   \n",
       "\n",
       "   country_MX  country_NL  country_NO  country_NZ  country_PL  country_SE  \\\n",
       "0           0           0           0           0           0           0   \n",
       "1           0           0           0           0           0           0   \n",
       "2           0           0           0           0           0           0   \n",
       "3           0           0           0           0           0           0   \n",
       "4           0           0           0           0           0           0   \n",
       "\n",
       "   country_SG  country_SI  country_US  country_nan  \n",
       "0           0           0           1            0  \n",
       "1           0           0           1            0  \n",
       "2           0           0           0            0  \n",
       "3           0           0           0            0  \n",
       "4           0           0           1            0  \n",
       "\n",
       "[5 rows x 49 columns]"
      ]
     },
     "execution_count": 12,
     "metadata": {},
     "output_type": "execute_result"
    }
   ],
   "source": [
    "df_transformed.head()"
   ]
  },
  {
   "cell_type": "code",
   "execution_count": 13,
   "metadata": {},
   "outputs": [],
   "source": [
    "y = df_transformed['state']"
   ]
  },
  {
   "cell_type": "code",
   "execution_count": 14,
   "metadata": {},
   "outputs": [],
   "source": [
    "X = df_transformed.drop('state', axis=1)"
   ]
  },
  {
   "cell_type": "markdown",
   "metadata": {},
   "source": [
    "### NLP"
   ]
  },
  {
   "cell_type": "code",
   "execution_count": 15,
   "metadata": {},
   "outputs": [],
   "source": [
    "corpus = df_transformed['clean_text'].values.tolist()"
   ]
  },
  {
   "cell_type": "code",
   "execution_count": 16,
   "metadata": {},
   "outputs": [],
   "source": [
    "vectorizer = TfidfVectorizer(ngram_range=(1,2), min_df=0.001)\n",
    "X_tfidf = vectorizer.fit_transform(corpus)"
   ]
  },
  {
   "cell_type": "code",
   "execution_count": 17,
   "metadata": {},
   "outputs": [
    {
     "data": {
      "text/plain": [
       "(198538, 1928)"
      ]
     },
     "execution_count": 17,
     "metadata": {},
     "output_type": "execute_result"
    }
   ],
   "source": [
    "X_tfidf.shape"
   ]
  },
  {
   "cell_type": "code",
   "execution_count": 18,
   "metadata": {},
   "outputs": [],
   "source": [
    "X_tfidf = pd.DataFrame(X_tfidf.toarray()) #convert to dataframe for concatenation"
   ]
  },
  {
   "cell_type": "code",
   "execution_count": 19,
   "metadata": {},
   "outputs": [],
   "source": [
    "X = X.drop(columns=['clean_text'])"
   ]
  },
  {
   "cell_type": "code",
   "execution_count": 20,
   "metadata": {},
   "outputs": [],
   "source": [
    "X_all_feat = pd.concat([X, X_tfidf], axis = 1)"
   ]
  },
  {
   "cell_type": "markdown",
   "metadata": {},
   "source": [
    "## Baseline Models"
   ]
  },
  {
   "cell_type": "code",
   "execution_count": 37,
   "metadata": {},
   "outputs": [],
   "source": [
    "# Splitting Dataset into train and test set \n",
    "X_train_nlp, X_test_nlp, y_train_nlp, y_test_nlp = train_test_split(\n",
    "    X_tfidf, y, test_size=0.25, random_state=42)"
   ]
  },
  {
   "cell_type": "code",
   "execution_count": 21,
   "metadata": {},
   "outputs": [],
   "source": [
    "# Splitting Dataset into train and test set \n",
    "X_train, X_test, y_train, y_test = train_test_split(\n",
    "    X_all_feat, y, test_size=0.25, random_state=42)"
   ]
  },
  {
   "cell_type": "markdown",
   "metadata": {},
   "source": [
    "### logistic regression"
   ]
  },
  {
   "cell_type": "code",
   "execution_count": 73,
   "metadata": {},
   "outputs": [
    {
     "data": {
      "text/html": [
       "<div>\n",
       "<style scoped>\n",
       "    .dataframe tbody tr th:only-of-type {\n",
       "        vertical-align: middle;\n",
       "    }\n",
       "\n",
       "    .dataframe tbody tr th {\n",
       "        vertical-align: top;\n",
       "    }\n",
       "\n",
       "    .dataframe thead th {\n",
       "        text-align: right;\n",
       "    }\n",
       "</style>\n",
       "<table border=\"1\" class=\"dataframe\">\n",
       "  <thead>\n",
       "    <tr style=\"text-align: right;\">\n",
       "      <th></th>\n",
       "      <th>usd_goal</th>\n",
       "      <th>creation_to_launch_days</th>\n",
       "      <th>campaign_days</th>\n",
       "      <th>staff_pick_False</th>\n",
       "      <th>staff_pick_True</th>\n",
       "      <th>staff_pick_nan</th>\n",
       "      <th>category_art</th>\n",
       "      <th>category_comics</th>\n",
       "      <th>category_crafts</th>\n",
       "      <th>category_dance</th>\n",
       "      <th>...</th>\n",
       "      <th>1918</th>\n",
       "      <th>1919</th>\n",
       "      <th>1920</th>\n",
       "      <th>1921</th>\n",
       "      <th>1922</th>\n",
       "      <th>1923</th>\n",
       "      <th>1924</th>\n",
       "      <th>1925</th>\n",
       "      <th>1926</th>\n",
       "      <th>1927</th>\n",
       "    </tr>\n",
       "  </thead>\n",
       "  <tbody>\n",
       "    <tr>\n",
       "      <th>0</th>\n",
       "      <td>-0.033070</td>\n",
       "      <td>-0.347656</td>\n",
       "      <td>-0.223582</td>\n",
       "      <td>0.410399</td>\n",
       "      <td>-0.410399</td>\n",
       "      <td>0.0</td>\n",
       "      <td>-0.34255</td>\n",
       "      <td>-0.215935</td>\n",
       "      <td>5.057826</td>\n",
       "      <td>-0.145428</td>\n",
       "      <td>...</td>\n",
       "      <td>-0.122968</td>\n",
       "      <td>-0.035378</td>\n",
       "      <td>-0.035922</td>\n",
       "      <td>-0.045409</td>\n",
       "      <td>-0.060071</td>\n",
       "      <td>-0.05217</td>\n",
       "      <td>-0.040496</td>\n",
       "      <td>-0.034216</td>\n",
       "      <td>-0.058353</td>\n",
       "      <td>-0.040664</td>\n",
       "    </tr>\n",
       "    <tr>\n",
       "      <th>1</th>\n",
       "      <td>-0.014498</td>\n",
       "      <td>0.466008</td>\n",
       "      <td>-0.223582</td>\n",
       "      <td>-2.436653</td>\n",
       "      <td>2.436653</td>\n",
       "      <td>0.0</td>\n",
       "      <td>-0.34255</td>\n",
       "      <td>4.631021</td>\n",
       "      <td>-0.197713</td>\n",
       "      <td>-0.145428</td>\n",
       "      <td>...</td>\n",
       "      <td>-0.122968</td>\n",
       "      <td>-0.035378</td>\n",
       "      <td>-0.035922</td>\n",
       "      <td>-0.045409</td>\n",
       "      <td>-0.060071</td>\n",
       "      <td>-0.05217</td>\n",
       "      <td>-0.040496</td>\n",
       "      <td>-0.034216</td>\n",
       "      <td>-0.058353</td>\n",
       "      <td>-0.040664</td>\n",
       "    </tr>\n",
       "    <tr>\n",
       "      <th>2</th>\n",
       "      <td>-0.031264</td>\n",
       "      <td>-0.297695</td>\n",
       "      <td>-0.717889</td>\n",
       "      <td>-2.436653</td>\n",
       "      <td>2.436653</td>\n",
       "      <td>0.0</td>\n",
       "      <td>-0.34255</td>\n",
       "      <td>-0.215935</td>\n",
       "      <td>5.057826</td>\n",
       "      <td>-0.145428</td>\n",
       "      <td>...</td>\n",
       "      <td>-0.122968</td>\n",
       "      <td>-0.035378</td>\n",
       "      <td>-0.035922</td>\n",
       "      <td>-0.045409</td>\n",
       "      <td>-0.060071</td>\n",
       "      <td>-0.05217</td>\n",
       "      <td>-0.040496</td>\n",
       "      <td>-0.034216</td>\n",
       "      <td>-0.058353</td>\n",
       "      <td>-0.040664</td>\n",
       "    </tr>\n",
       "    <tr>\n",
       "      <th>3</th>\n",
       "      <td>-0.033973</td>\n",
       "      <td>-0.304832</td>\n",
       "      <td>-0.223582</td>\n",
       "      <td>0.410399</td>\n",
       "      <td>-0.410399</td>\n",
       "      <td>0.0</td>\n",
       "      <td>-0.34255</td>\n",
       "      <td>-0.215935</td>\n",
       "      <td>5.057826</td>\n",
       "      <td>-0.145428</td>\n",
       "      <td>...</td>\n",
       "      <td>-0.122968</td>\n",
       "      <td>-0.035378</td>\n",
       "      <td>-0.035922</td>\n",
       "      <td>-0.045409</td>\n",
       "      <td>-0.060071</td>\n",
       "      <td>-0.05217</td>\n",
       "      <td>-0.040496</td>\n",
       "      <td>-0.034216</td>\n",
       "      <td>-0.058353</td>\n",
       "      <td>-0.040664</td>\n",
       "    </tr>\n",
       "    <tr>\n",
       "      <th>4</th>\n",
       "      <td>-0.026716</td>\n",
       "      <td>5.190973</td>\n",
       "      <td>0.600264</td>\n",
       "      <td>0.410399</td>\n",
       "      <td>-0.410399</td>\n",
       "      <td>0.0</td>\n",
       "      <td>-0.34255</td>\n",
       "      <td>-0.215935</td>\n",
       "      <td>-0.197713</td>\n",
       "      <td>-0.145428</td>\n",
       "      <td>...</td>\n",
       "      <td>-0.122968</td>\n",
       "      <td>-0.035378</td>\n",
       "      <td>-0.035922</td>\n",
       "      <td>-0.045409</td>\n",
       "      <td>-0.060071</td>\n",
       "      <td>-0.05217</td>\n",
       "      <td>-0.040496</td>\n",
       "      <td>-0.034216</td>\n",
       "      <td>-0.058353</td>\n",
       "      <td>-0.040664</td>\n",
       "    </tr>\n",
       "  </tbody>\n",
       "</table>\n",
       "<p>5 rows × 1975 columns</p>\n",
       "</div>"
      ],
      "text/plain": [
       "   usd_goal  creation_to_launch_days  campaign_days  staff_pick_False  \\\n",
       "0 -0.033070                -0.347656      -0.223582          0.410399   \n",
       "1 -0.014498                 0.466008      -0.223582         -2.436653   \n",
       "2 -0.031264                -0.297695      -0.717889         -2.436653   \n",
       "3 -0.033973                -0.304832      -0.223582          0.410399   \n",
       "4 -0.026716                 5.190973       0.600264          0.410399   \n",
       "\n",
       "   staff_pick_True  staff_pick_nan  category_art  category_comics  \\\n",
       "0        -0.410399             0.0      -0.34255        -0.215935   \n",
       "1         2.436653             0.0      -0.34255         4.631021   \n",
       "2         2.436653             0.0      -0.34255        -0.215935   \n",
       "3        -0.410399             0.0      -0.34255        -0.215935   \n",
       "4        -0.410399             0.0      -0.34255        -0.215935   \n",
       "\n",
       "   category_crafts  category_dance  ...      1918      1919      1920  \\\n",
       "0         5.057826       -0.145428  ... -0.122968 -0.035378 -0.035922   \n",
       "1        -0.197713       -0.145428  ... -0.122968 -0.035378 -0.035922   \n",
       "2         5.057826       -0.145428  ... -0.122968 -0.035378 -0.035922   \n",
       "3         5.057826       -0.145428  ... -0.122968 -0.035378 -0.035922   \n",
       "4        -0.197713       -0.145428  ... -0.122968 -0.035378 -0.035922   \n",
       "\n",
       "       1921      1922     1923      1924      1925      1926      1927  \n",
       "0 -0.045409 -0.060071 -0.05217 -0.040496 -0.034216 -0.058353 -0.040664  \n",
       "1 -0.045409 -0.060071 -0.05217 -0.040496 -0.034216 -0.058353 -0.040664  \n",
       "2 -0.045409 -0.060071 -0.05217 -0.040496 -0.034216 -0.058353 -0.040664  \n",
       "3 -0.045409 -0.060071 -0.05217 -0.040496 -0.034216 -0.058353 -0.040664  \n",
       "4 -0.045409 -0.060071 -0.05217 -0.040496 -0.034216 -0.058353 -0.040664  \n",
       "\n",
       "[5 rows x 1975 columns]"
      ]
     },
     "execution_count": 73,
     "metadata": {},
     "output_type": "execute_result"
    }
   ],
   "source": [
    "scaler = StandardScaler()\n",
    "X_unscaled = pd.DataFrame(scaler.fit_transform(X_all_feat), columns=list(X_all_feat.columns))\n",
    "X_unscaled.head()"
   ]
  },
  {
   "cell_type": "code",
   "execution_count": 74,
   "metadata": {},
   "outputs": [],
   "source": [
    "# Splitting Dataset into train and test set \n",
    "X_train_s, X_test_s, y_train_s, y_test_s = train_test_split(X_unscaled, y, test_size=0.25, random_state=42)"
   ]
  },
  {
   "cell_type": "code",
   "execution_count": 75,
   "metadata": {},
   "outputs": [
    {
     "name": "stderr",
     "output_type": "stream",
     "text": [
      "/home/main/anaconda3/lib/python3.7/site-packages/sklearn/linear_model/_logistic.py:765: ConvergenceWarning: lbfgs failed to converge (status=1):\n",
      "STOP: TOTAL NO. of ITERATIONS REACHED LIMIT.\n",
      "\n",
      "Increase the number of iterations (max_iter) or scale the data as shown in:\n",
      "    https://scikit-learn.org/stable/modules/preprocessing.html\n",
      "Please also refer to the documentation for alternative solver options:\n",
      "    https://scikit-learn.org/stable/modules/linear_model.html#logistic-regression\n",
      "  extra_warning_msg=_LOGISTIC_SOLVER_CONVERGENCE_MSG)\n"
     ]
    },
    {
     "data": {
      "text/plain": [
       "LogisticRegression()"
      ]
     },
     "execution_count": 75,
     "metadata": {},
     "output_type": "execute_result"
    }
   ],
   "source": [
    "# Fitting a logistic regression model with default parameters\n",
    "logreg = LogisticRegression()\n",
    "logreg.fit(X_train_s,y_train_s)"
   ]
  },
  {
   "cell_type": "code",
   "execution_count": 76,
   "metadata": {},
   "outputs": [],
   "source": [
    "# Making predictions\n",
    "y_hat_train = logreg.predict(X_train_s)\n",
    "y_hat_logreg = logreg.predict(X_test_s)"
   ]
  },
  {
   "cell_type": "code",
   "execution_count": 83,
   "metadata": {},
   "outputs": [
    {
     "name": "stdout",
     "output_type": "stream",
     "text": [
      "Logistic regression score for test set: 0.76053\n",
      "\n",
      "Classification report:\n",
      "              precision    recall  f1-score   support\n",
      "\n",
      "           0       0.70      0.60      0.65     18173\n",
      "           1       0.79      0.85      0.82     31462\n",
      "\n",
      "    accuracy                           0.76     49635\n",
      "   macro avg       0.74      0.73      0.73     49635\n",
      "weighted avg       0.76      0.76      0.76     49635\n",
      "\n"
     ]
    }
   ],
   "source": [
    "# Logistic regression scores\n",
    "print(\"Logistic regression score for test set:\", round(logreg.score(X_test_s, y_test_s),5))\n",
    "print(\"\\nClassification report:\")\n",
    "print(classification_report(y_test_s, y_hat_logreg))"
   ]
  },
  {
   "cell_type": "code",
   "execution_count": 82,
   "metadata": {},
   "outputs": [
    {
     "name": "stderr",
     "output_type": "stream",
     "text": [
      "/home/main/anaconda3/lib/python3.7/site-packages/sklearn/linear_model/_logistic.py:765: ConvergenceWarning: lbfgs failed to converge (status=1):\n",
      "STOP: TOTAL NO. of ITERATIONS REACHED LIMIT.\n",
      "\n",
      "Increase the number of iterations (max_iter) or scale the data as shown in:\n",
      "    https://scikit-learn.org/stable/modules/preprocessing.html\n",
      "Please also refer to the documentation for alternative solver options:\n",
      "    https://scikit-learn.org/stable/modules/linear_model.html#logistic-regression\n",
      "  extra_warning_msg=_LOGISTIC_SOLVER_CONVERGENCE_MSG)\n"
     ]
    },
    {
     "name": "stdout",
     "output_type": "stream",
     "text": [
      "AUC: 0.82609\n"
     ]
    },
    {
     "data": {
      "image/png": "[encoded data removed]",
      "text/plain": [
       "<Figure size 720x576 with 1 Axes>"
      ]
     },
     "metadata": {
      "needs_background": "light"
     },
     "output_type": "display_data"
    }
   ],
   "source": [
    "# Plotting the AUC-ROC\n",
    "y_score = logreg.fit(X_train_s, y_train_s).decision_function(X_test_s)\n",
    "fpr, tpr, thresholds = roc_curve(y_test_s, y_score)\n",
    "\n",
    "print('AUC:', round(auc(fpr, tpr),5))\n",
    "\n",
    "plt.figure(figsize=(10,8))\n",
    "lw = 2\n",
    "plt.plot(fpr, tpr, color='darkorange',\n",
    "         lw=lw, label='ROC curve')\n",
    "plt.plot([0, 1], [0, 1], color='navy', lw=lw, linestyle='--')\n",
    "plt.xlim([0.0, 1.0])\n",
    "plt.ylim([0.0, 1.05])\n",
    "plt.yticks([i/20.0 for i in range(21)])\n",
    "plt.xticks([i/20.0 for i in range(21)])\n",
    "plt.xlabel('False Positive Rate')\n",
    "plt.ylabel('True Positive Rate')\n",
    "plt.title('Receiver operating characteristic (ROC) Curve')\n",
    "plt.legend(loc=\"lower right\")\n",
    "plt.show()"
   ]
  },
  {
   "cell_type": "code",
   "execution_count": 25,
   "metadata": {},
   "outputs": [],
   "source": [
    "def plot_cf(y_true, y_pred, class_names=None, model_name=None):\n",
    "    \"\"\"Plots a confusion matrix\"\"\"\n",
    "    cf = confusion_matrix(y_true, y_pred)\n",
    "    plt.imshow(cf, cmap=plt.cm.Blues)\n",
    "    plt.grid(b=None)\n",
    "    if model_name:\n",
    "        plt.title(\"Confusion Matrix: {}\".format(model_name))\n",
    "    else:\n",
    "        plt.title(\"Confusion Matrix\")\n",
    "    plt.ylabel('True Label')\n",
    "    plt.xlabel('Predicted Label')\n",
    "    \n",
    "    class_names = set(y_true)\n",
    "    tick_marks = np.arange(len(class_names))\n",
    "    if class_names:\n",
    "        plt.xticks(tick_marks, class_names)\n",
    "        plt.yticks(tick_marks, class_names)\n",
    "    \n",
    "    thresh = cf.max() / 2.\n",
    "    \n",
    "    for i, j in itertools.product(range(cf.shape[0]), range(cf.shape[1])):\n",
    "        plt.text(j, i, cf[i, j], horizontalalignment='center', color='white' if cf[i, j] > thresh else 'black')\n",
    "\n",
    "    plt.colorbar()"
   ]
  },
  {
   "cell_type": "code",
   "execution_count": null,
   "metadata": {},
   "outputs": [],
   "source": [
    "# Confusion matrix\n",
    "plot_cf(y_test_s, y_hat_logreg)"
   ]
  },
  {
   "cell_type": "code",
   "execution_count": null,
   "metadata": {},
   "outputs": [],
   "source": [
    "# Your data\n",
    "data = logreg.coef_\n",
    "labels = X.columns"
   ]
  },
  {
   "cell_type": "code",
   "execution_count": null,
   "metadata": {},
   "outputs": [],
   "source": [
    "logreg.coef_.shape"
   ]
  },
  {
   "cell_type": "code",
   "execution_count": null,
   "metadata": {},
   "outputs": [],
   "source": [
    "fig,ax=plt.subplots(figsize=(10,10))\n",
    "ax.bar(np.arange(30), data.ravel()[:30])\n",
    "ax.set_xticks(np.arange(30))\n",
    "ax.set_xticklabels(labels[:30], rotation=90)\n",
    "ax.set_xticks(np.arange(30))\n",
    "ax.set_ylim([-1,1]);\n",
    "#high coefficients: usd goal, categories of comics, games, and music"
   ]
  },
  {
   "cell_type": "code",
   "execution_count": null,
   "metadata": {},
   "outputs": [],
   "source": [
    "fig,ax=plt.subplots(figsize=(10,10))\n",
    "ax.bar(np.arange(30), data.ravel()[30:60])\n",
    "ax.set_xticks(np.arange(30))\n",
    "ax.set_xticklabels(labels[30:60], rotation=90)\n",
    "ax.set_ylim([-1,1]);\n",
    "#high coefficients: staff pick 0 or 1"
   ]
  },
  {
   "cell_type": "code",
   "execution_count": null,
   "metadata": {},
   "outputs": [],
   "source": [
    "fig,ax=plt.subplots(figsize=(10,10))\n",
    "ax.bar(np.arange(14), data.ravel()[60:74])\n",
    "ax.set_xticks(np.arange(14))\n",
    "ax.set_xticklabels(labels[60:74], rotation=90)\n",
    "ax.set_ylim([-1,1]);"
   ]
  },
  {
   "cell_type": "markdown",
   "metadata": {},
   "source": [
    "### random forest"
   ]
  },
  {
   "cell_type": "code",
   "execution_count": null,
   "metadata": {},
   "outputs": [],
   "source": [
    "X_train.head()"
   ]
  },
  {
   "cell_type": "code",
   "execution_count": 22,
   "metadata": {},
   "outputs": [
    {
     "name": "stdout",
     "output_type": "stream",
     "text": [
      "Accuracy score: 0.806\n",
      "f1 score: 0.8009945815738597\n"
     ]
    }
   ],
   "source": [
    "# Train and fit model                                                   \n",
    "rf = RandomForestClassifier(random_state=1,n_jobs=-1)\n",
    "\n",
    "rf.fit(X_train, y_train)\n",
    "                                     \n",
    "# Test Prediction\n",
    "y_hat_rf = rf.predict(X_test)\n",
    "\n",
    "# Printing evaluation metric (accuracy-score) \n",
    "print('Accuracy score: {:.3}'.format(rf.score(X_test, y_test)))\n",
    "\n",
    "# Printing evaluation metric (f1-score) \n",
    "print(\"f1 score: {}\".format(f1_score(y_test, y_hat_rf, average = 'weighted')))"
   ]
  },
  {
   "cell_type": "code",
   "execution_count": null,
   "metadata": {},
   "outputs": [],
   "source": [
    "rfc = RandomForestClassifier(n_estimators=10, random_state=42)\n",
    "rfc.fit(X_train, y_train)\n",
    "ax = plt.gca()\n",
    "rfc_disp = plot_roc_curve(rfc, X_test, y_test, ax=ax, alpha=0.8)\n",
    "svc_disp.plot(ax=ax, alpha=0.8)\n",
    "plt.show()"
   ]
  },
  {
   "cell_type": "code",
   "execution_count": null,
   "metadata": {},
   "outputs": [],
   "source": [
    "print(\"Random Forest Classifier score for test set:\", round(rf.score(X_test, y_test),5))\n",
    "print(\"\\nClassification report:\")\n",
    "print(classification_report(y_test, y_hat_rf))"
   ]
  },
  {
   "cell_type": "code",
   "execution_count": 23,
   "metadata": {},
   "outputs": [
    {
     "data": {
      "text/plain": [
       "array([0.07392672, 0.0492415 , 0.03310511, ..., 0.00011749, 0.00039479,\n",
       "       0.00017072])"
      ]
     },
     "execution_count": 23,
     "metadata": {},
     "output_type": "execute_result"
    }
   ],
   "source": [
    "rf.feature_importances_"
   ]
  },
  {
   "cell_type": "code",
   "execution_count": 26,
   "metadata": {},
   "outputs": [
    {
     "data": {
      "image/png": "[encoded data removed]",
      "text/plain": [
       "<Figure size 432x288 with 2 Axes>"
      ]
     },
     "metadata": {
      "needs_background": "light"
     },
     "output_type": "display_data"
    }
   ],
   "source": [
    "# Confusion matrix\n",
    "plot_cf(y_test, y_hat_rf)"
   ]
  },
  {
   "cell_type": "code",
   "execution_count": 27,
   "metadata": {},
   "outputs": [],
   "source": [
    "def plot_feature_importance(importance,names,model_type):\n",
    "\n",
    "    #Create arrays from feature importance and feature names\n",
    "    feature_importance = np.array(importance)\n",
    "    feature_names = np.array(names)\n",
    "\n",
    "    #Create a DataFrame using a Dictionary\n",
    "    data={'feature_names':feature_names,'feature_importance':feature_importance}\n",
    "    fi_df = pd.DataFrame(data)\n",
    "\n",
    "    #Sort the DataFrame in order decreasing feature importance\n",
    "    fi_df.sort_values(by=['feature_importance'], ascending=False,inplace=True)\n",
    "\n",
    "    #Define size of bar plot\n",
    "    plt.figure(figsize=(10,8))\n",
    "    #Plot Searborn bar chart\n",
    "    sns.barplot(x=fi_df['feature_importance'][:40], y=fi_df['feature_names'][:40])\n",
    "    #Add chart labels\n",
    "    plt.title(model_type + '', fontsize=20)\n",
    "    plt.xlabel('Feature Importance', fontsize=13)\n",
    "    plt.ylabel('Feature Names', fontsize=13)"
   ]
  },
  {
   "cell_type": "code",
   "execution_count": 29,
   "metadata": {
    "scrolled": true
   },
   "outputs": [
    {
     "data": {
      "image/png": "[encoded data removed]",
      "text/plain": [
       "<Figure size 720x576 with 1 Axes>"
      ]
     },
     "metadata": {
      "needs_background": "light"
     },
     "output_type": "display_data"
    }
   ],
   "source": [
    "plot_feature_importance(rf.feature_importances_, X_all_feat.columns,'Random Forest Classifier')"
   ]
  },
  {
   "cell_type": "code",
   "execution_count": 36,
   "metadata": {},
   "outputs": [
    {
     "name": "stdout",
     "output_type": "stream",
     "text": [
      "make\n",
      "want\n",
      "create\n",
      "pin\n"
     ]
    }
   ],
   "source": [
    "for word, i in vectorizer.vocabulary_.items():\n",
    "    if i == 1250 or i == 371 or i == 1823 or i ==1019:\n",
    "        print(word)"
   ]
  },
  {
   "cell_type": "markdown",
   "metadata": {},
   "source": [
    "### random forest on nlp only"
   ]
  },
  {
   "cell_type": "code",
   "execution_count": 38,
   "metadata": {},
   "outputs": [
    {
     "name": "stdout",
     "output_type": "stream",
     "text": [
      "Accuracy score: 0.728\n",
      "f1 score: 0.7164644287497666\n"
     ]
    }
   ],
   "source": [
    "# Train and fit model                                                   \n",
    "rf_nlp = RandomForestClassifier(random_state=1,n_jobs=-1)\n",
    "\n",
    "rf_nlp.fit(X_train_nlp, y_train_nlp)\n",
    "                                     \n",
    "# Test Prediction\n",
    "y_hat_rf_nlp = rf_nlp.predict(X_test_nlp)\n",
    "\n",
    "# Printing evaluation metric (accuracy-score) \n",
    "print('Accuracy score: {:.3}'.format(rf_nlp.score(X_test_nlp, y_test_nlp)))\n",
    "\n",
    "# Printing evaluation metric (f1-score) \n",
    "print(\"f1 score: {}\".format(f1_score(y_test_nlp, y_hat_rf_nlp, average = 'weighted')))"
   ]
  },
  {
   "cell_type": "code",
   "execution_count": 39,
   "metadata": {
    "scrolled": true
   },
   "outputs": [
    {
     "data": {
      "image/png": "[encoded data removed]",
      "text/plain": [
       "<Figure size 432x288 with 2 Axes>"
      ]
     },
     "metadata": {
      "needs_background": "light"
     },
     "output_type": "display_data"
    }
   ],
   "source": [
    "# Confusion matrix\n",
    "plot_cf(y_test_nlp, y_hat_rf_nlp)"
   ]
  },
  {
   "cell_type": "code",
   "execution_count": 42,
   "metadata": {},
   "outputs": [
    {
     "data": {
      "image/png": "[encoded data removed]",
      "text/plain": [
       "<Figure size 720x576 with 1 Axes>"
      ]
     },
     "metadata": {
      "needs_background": "light"
     },
     "output_type": "display_data"
    }
   ],
   "source": [
    "plot_feature_importance(rf_nlp.feature_importances_, vectorizer.get_feature_names(),'Random Forest Classifier')"
   ]
  },
  {
   "cell_type": "code",
   "execution_count": 85,
   "metadata": {},
   "outputs": [
    {
     "data": {
      "text/plain": [
       "<sklearn.metrics._plot.roc_curve.RocCurveDisplay at 0x7fdb3df9f5d0>"
      ]
     },
     "execution_count": 85,
     "metadata": {},
     "output_type": "execute_result"
    },
    {
     "data": {
      "image/png": "[encoded data removed]",
      "text/plain": [
       "<Figure size 432x288 with 1 Axes>"
      ]
     },
     "metadata": {
      "needs_background": "light"
     },
     "output_type": "display_data"
    }
   ],
   "source": [
    "fig, ax = plt.subplots()\n",
    "plot_roc_curve(rf, X_test, y_test, ax=ax, name='Random Forest Classifier');"
   ]
  },
  {
   "cell_type": "markdown",
   "metadata": {},
   "source": [
    "### gradient boosting "
   ]
  },
  {
   "cell_type": "code",
   "execution_count": null,
   "metadata": {},
   "outputs": [],
   "source": [
    "# Train and fit model                                                   \n",
    "gb = GradientBoostingClassifier(random_state=1)\n",
    "\n",
    "gb.fit(X_train, y_train)\n",
    "                                     \n",
    "# Test Prediction\n",
    "y_hat_gb = gb.predict(X_test)\n",
    "\n",
    "# Printing evaluation metric (accuracy-score) \n",
    "print('Accuracy score: {:.3}'.format(gb.score(X_test, y_test)))\n",
    "\n",
    "# Printing evaluation metric (f1-score) \n",
    "print(\"f1 score: {}\".format(f1_score(y_test, y_hat_gb, average = 'weighted')))"
   ]
  },
  {
   "cell_type": "code",
   "execution_count": null,
   "metadata": {},
   "outputs": [],
   "source": [
    "# Confusion matrix\n",
    "plot_cf(y_test, y_hat_gb)"
   ]
  }
 ],
 "metadata": {
  "kernelspec": {
   "display_name": "Python 3",
   "language": "python",
   "name": "python3"
  },
  "language_info": {
   "codemirror_mode": {
    "name": "ipython",
    "version": 3
   },
   "file_extension": ".py",
   "mimetype": "text/x-python",
   "name": "python",
   "nbconvert_exporter": "python",
   "pygments_lexer": "ipython3",
   "version": "3.7.9"
  }
 },
 "nbformat": 4,
 "nbformat_minor": 4
}
