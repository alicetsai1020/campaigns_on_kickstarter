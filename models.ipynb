{
 "cells": [
  {
   "cell_type": "code",
   "execution_count": 1,
   "metadata": {},
   "outputs": [],
   "source": [
    "import pandas as pd\n",
    "import numpy as np\n",
    "import matplotlib.pyplot as plt\n",
    "from matplotlib import cm\n",
    "import seaborn as sns"
   ]
  },
  {
   "cell_type": "code",
   "execution_count": 2,
   "metadata": {},
   "outputs": [],
   "source": [
    "from sklearn.feature_extraction.text import CountVectorizer\n",
    "from sklearn.feature_extraction.text import TfidfVectorizer\n",
    "\n",
    "from sklearn.preprocessing import StandardScaler\n",
    "from sklearn.model_selection import train_test_split, KFold, cross_val_score, GridSearchCV\n",
    "from sklearn.linear_model import LogisticRegression\n",
    "from sklearn.ensemble import RandomForestClassifier\n",
    "from sklearn.ensemble import GradientBoostingClassifier\n",
    "\n",
    "from sklearn.metrics import confusion_matrix, plot_confusion_matrix, classification_report\n",
    "from sklearn.metrics import accuracy_score, f1_score, mean_squared_error"
   ]
  },
  {
   "cell_type": "code",
   "execution_count": 3,
   "metadata": {},
   "outputs": [],
   "source": [
    "import itertools"
   ]
  },
  {
   "cell_type": "code",
   "execution_count": 4,
   "metadata": {},
   "outputs": [],
   "source": [
    "df = pd.read_csv('processed_data.csv')"
   ]
  },
  {
   "cell_type": "code",
   "execution_count": 5,
   "metadata": {},
   "outputs": [
    {
     "data": {
      "text/plain": [
       "Index(['id', 'backers_count', 'category', 'country', 'created_at', 'deadline',\n",
       "       'is_starrable', 'launched_at', 'staff_pick', 'state', 'usd_pledged',\n",
       "       'sub_category', 'creation_to_launch_days', 'campaign_days',\n",
       "       'launch_day', 'deadline_day', 'launch_month', 'deadline_month',\n",
       "       'launch_time', 'deadline_time', 'pledge_per_backer', 'usd_goal'],\n",
       "      dtype='object')"
      ]
     },
     "execution_count": 5,
     "metadata": {},
     "output_type": "execute_result"
    }
   ],
   "source": [
    "df.columns"
   ]
  },
  {
   "cell_type": "code",
   "execution_count": 6,
   "metadata": {},
   "outputs": [
    {
     "data": {
      "text/plain": [
       "(198600, 22)"
      ]
     },
     "execution_count": 6,
     "metadata": {},
     "output_type": "execute_result"
    }
   ],
   "source": [
    "df.shape"
   ]
  },
  {
   "cell_type": "markdown",
   "metadata": {},
   "source": [
    "## Preparing target and features"
   ]
  },
  {
   "cell_type": "code",
   "execution_count": 7,
   "metadata": {},
   "outputs": [
    {
     "data": {
      "text/html": [
       "<div>\n",
       "<style scoped>\n",
       "    .dataframe tbody tr th:only-of-type {\n",
       "        vertical-align: middle;\n",
       "    }\n",
       "\n",
       "    .dataframe tbody tr th {\n",
       "        vertical-align: top;\n",
       "    }\n",
       "\n",
       "    .dataframe thead th {\n",
       "        text-align: right;\n",
       "    }\n",
       "</style>\n",
       "<table border=\"1\" class=\"dataframe\">\n",
       "  <thead>\n",
       "    <tr style=\"text-align: right;\">\n",
       "      <th></th>\n",
       "      <th>id</th>\n",
       "      <th>category</th>\n",
       "      <th>country</th>\n",
       "      <th>staff_pick</th>\n",
       "      <th>state</th>\n",
       "      <th>creation_to_launch_days</th>\n",
       "      <th>campaign_days</th>\n",
       "      <th>launch_time</th>\n",
       "      <th>deadline_time</th>\n",
       "      <th>usd_goal</th>\n",
       "    </tr>\n",
       "  </thead>\n",
       "  <tbody>\n",
       "    <tr>\n",
       "      <th>0</th>\n",
       "      <td>2139821925</td>\n",
       "      <td>crafts</td>\n",
       "      <td>US</td>\n",
       "      <td>False</td>\n",
       "      <td>failed</td>\n",
       "      <td>1</td>\n",
       "      <td>30</td>\n",
       "      <td>4pm-6pm</td>\n",
       "      <td>4pm-6pm</td>\n",
       "      <td>1000.00</td>\n",
       "    </tr>\n",
       "    <tr>\n",
       "      <th>1</th>\n",
       "      <td>378093839</td>\n",
       "      <td>comics</td>\n",
       "      <td>US</td>\n",
       "      <td>True</td>\n",
       "      <td>successful</td>\n",
       "      <td>115</td>\n",
       "      <td>30</td>\n",
       "      <td>2pm-4pm</td>\n",
       "      <td>12am-2am</td>\n",
       "      <td>20000.00</td>\n",
       "    </tr>\n",
       "    <tr>\n",
       "      <th>2</th>\n",
       "      <td>1484057434</td>\n",
       "      <td>crafts</td>\n",
       "      <td>DE</td>\n",
       "      <td>True</td>\n",
       "      <td>successful</td>\n",
       "      <td>8</td>\n",
       "      <td>24</td>\n",
       "      <td>12am-2am</td>\n",
       "      <td>8pm-10pm</td>\n",
       "      <td>2847.66</td>\n",
       "    </tr>\n",
       "    <tr>\n",
       "      <th>3</th>\n",
       "      <td>1955625514</td>\n",
       "      <td>crafts</td>\n",
       "      <td>CA</td>\n",
       "      <td>False</td>\n",
       "      <td>successful</td>\n",
       "      <td>7</td>\n",
       "      <td>30</td>\n",
       "      <td>4pm-6pm</td>\n",
       "      <td>4pm-6pm</td>\n",
       "      <td>75.41</td>\n",
       "    </tr>\n",
       "    <tr>\n",
       "      <th>4</th>\n",
       "      <td>814342621</td>\n",
       "      <td>design</td>\n",
       "      <td>US</td>\n",
       "      <td>False</td>\n",
       "      <td>successful</td>\n",
       "      <td>777</td>\n",
       "      <td>40</td>\n",
       "      <td>2pm-4pm</td>\n",
       "      <td>2pm-4pm</td>\n",
       "      <td>7500.00</td>\n",
       "    </tr>\n",
       "  </tbody>\n",
       "</table>\n",
       "</div>"
      ],
      "text/plain": [
       "           id category country  staff_pick       state  \\\n",
       "0  2139821925   crafts      US       False      failed   \n",
       "1   378093839   comics      US        True  successful   \n",
       "2  1484057434   crafts      DE        True  successful   \n",
       "3  1955625514   crafts      CA       False  successful   \n",
       "4   814342621   design      US       False  successful   \n",
       "\n",
       "   creation_to_launch_days  campaign_days launch_time deadline_time  usd_goal  \n",
       "0                        1             30     4pm-6pm       4pm-6pm   1000.00  \n",
       "1                      115             30     2pm-4pm      12am-2am  20000.00  \n",
       "2                        8             24    12am-2am      8pm-10pm   2847.66  \n",
       "3                        7             30     4pm-6pm       4pm-6pm     75.41  \n",
       "4                      777             40     2pm-4pm       2pm-4pm   7500.00  "
      ]
     },
     "execution_count": 7,
     "metadata": {},
     "output_type": "execute_result"
    }
   ],
   "source": [
    "# Dropping columns and creating new dataframe\n",
    "df_transformed = df.drop(['backers_count', 'created_at', 'deadline', 'is_starrable', \n",
    "                          'launched_at', 'usd_pledged', 'sub_category', 'pledge_per_backer',\n",
    "                         'launch_day', 'deadline_day', 'launch_month', 'deadline_month'], axis=1)\n",
    "df_transformed.head()"
   ]
  },
  {
   "cell_type": "code",
   "execution_count": 8,
   "metadata": {},
   "outputs": [],
   "source": [
    "df_transformed['state'] = df_transformed['state'].replace({'failed': 0, 'successful': 1})"
   ]
  },
  {
   "cell_type": "code",
   "execution_count": 9,
   "metadata": {},
   "outputs": [],
   "source": [
    "# Converting boolean features to string to include them in one-hot encoding\n",
    "df_transformed['staff_pick'] = df_transformed['staff_pick'].astype(str)"
   ]
  },
  {
   "cell_type": "code",
   "execution_count": 10,
   "metadata": {},
   "outputs": [],
   "source": [
    "# Creating dummy variables\n",
    "df_transformed = pd.get_dummies(df_transformed, dummy_na=True)"
   ]
  },
  {
   "cell_type": "code",
   "execution_count": 11,
   "metadata": {},
   "outputs": [],
   "source": [
    "y = df_transformed['state']"
   ]
  },
  {
   "cell_type": "code",
   "execution_count": 12,
   "metadata": {},
   "outputs": [],
   "source": [
    "X_unscaled = df_transformed.drop('state', axis=1)"
   ]
  },
  {
   "cell_type": "markdown",
   "metadata": {},
   "source": [
    "### NLP"
   ]
  },
  {
   "cell_type": "code",
   "execution_count": null,
   "metadata": {},
   "outputs": [],
   "source": [
    "corpus = df['clean_text'].values.tolist()"
   ]
  },
  {
   "cell_type": "code",
   "execution_count": null,
   "metadata": {},
   "outputs": [],
   "source": [
    "vectorizer = TfidfVectorizer(ngram_range=(1,2), min_df=0.001)\n",
    "X_tfidf = vectorizer.fit_transform(corpus)"
   ]
  },
  {
   "cell_type": "markdown",
   "metadata": {},
   "source": [
    "## Baseline Models"
   ]
  },
  {
   "cell_type": "markdown",
   "metadata": {},
   "source": [
    "### logistic regression"
   ]
  },
  {
   "cell_type": "code",
   "execution_count": 13,
   "metadata": {},
   "outputs": [
    {
     "data": {
      "text/html": [
       "<div>\n",
       "<style scoped>\n",
       "    .dataframe tbody tr th:only-of-type {\n",
       "        vertical-align: middle;\n",
       "    }\n",
       "\n",
       "    .dataframe tbody tr th {\n",
       "        vertical-align: top;\n",
       "    }\n",
       "\n",
       "    .dataframe thead th {\n",
       "        text-align: right;\n",
       "    }\n",
       "</style>\n",
       "<table border=\"1\" class=\"dataframe\">\n",
       "  <thead>\n",
       "    <tr style=\"text-align: right;\">\n",
       "      <th></th>\n",
       "      <th>id</th>\n",
       "      <th>creation_to_launch_days</th>\n",
       "      <th>campaign_days</th>\n",
       "      <th>usd_goal</th>\n",
       "      <th>category_art</th>\n",
       "      <th>category_comics</th>\n",
       "      <th>category_crafts</th>\n",
       "      <th>category_dance</th>\n",
       "      <th>category_design</th>\n",
       "      <th>category_fashion</th>\n",
       "      <th>...</th>\n",
       "      <th>deadline_time_12pm-2pm</th>\n",
       "      <th>deadline_time_2am-4am</th>\n",
       "      <th>deadline_time_2pm-4pm</th>\n",
       "      <th>deadline_time_4am-6am</th>\n",
       "      <th>deadline_time_4pm-6pm</th>\n",
       "      <th>deadline_time_6am-8am</th>\n",
       "      <th>deadline_time_6pm-8pm</th>\n",
       "      <th>deadline_time_8am-10am</th>\n",
       "      <th>deadline_time_8pm-10pm</th>\n",
       "      <th>deadline_time_nan</th>\n",
       "    </tr>\n",
       "  </thead>\n",
       "  <tbody>\n",
       "    <tr>\n",
       "      <th>0</th>\n",
       "      <td>1.721848</td>\n",
       "      <td>-0.347655</td>\n",
       "      <td>-0.223648</td>\n",
       "      <td>-0.033073</td>\n",
       "      <td>-0.342536</td>\n",
       "      <td>-0.215900</td>\n",
       "      <td>5.057943</td>\n",
       "      <td>-0.145405</td>\n",
       "      <td>-0.210427</td>\n",
       "      <td>-0.25385</td>\n",
       "      <td>...</td>\n",
       "      <td>-0.263424</td>\n",
       "      <td>-0.308699</td>\n",
       "      <td>-0.334479</td>\n",
       "      <td>-0.30817</td>\n",
       "      <td>2.633761</td>\n",
       "      <td>-0.247611</td>\n",
       "      <td>-0.358825</td>\n",
       "      <td>-0.185478</td>\n",
       "      <td>-0.346578</td>\n",
       "      <td>0.0</td>\n",
       "    </tr>\n",
       "    <tr>\n",
       "      <th>1</th>\n",
       "      <td>-1.123219</td>\n",
       "      <td>0.466121</td>\n",
       "      <td>-0.223648</td>\n",
       "      <td>-0.014499</td>\n",
       "      <td>-0.342536</td>\n",
       "      <td>4.631778</td>\n",
       "      <td>-0.197709</td>\n",
       "      <td>-0.145405</td>\n",
       "      <td>-0.210427</td>\n",
       "      <td>-0.25385</td>\n",
       "      <td>...</td>\n",
       "      <td>-0.263424</td>\n",
       "      <td>-0.308699</td>\n",
       "      <td>-0.334479</td>\n",
       "      <td>-0.30817</td>\n",
       "      <td>-0.379685</td>\n",
       "      <td>-0.247611</td>\n",
       "      <td>-0.358825</td>\n",
       "      <td>-0.185478</td>\n",
       "      <td>-0.346578</td>\n",
       "      <td>0.0</td>\n",
       "    </tr>\n",
       "    <tr>\n",
       "      <th>2</th>\n",
       "      <td>0.662834</td>\n",
       "      <td>-0.297686</td>\n",
       "      <td>-0.717947</td>\n",
       "      <td>-0.031267</td>\n",
       "      <td>-0.342536</td>\n",
       "      <td>-0.215900</td>\n",
       "      <td>5.057943</td>\n",
       "      <td>-0.145405</td>\n",
       "      <td>-0.210427</td>\n",
       "      <td>-0.25385</td>\n",
       "      <td>...</td>\n",
       "      <td>-0.263424</td>\n",
       "      <td>-0.308699</td>\n",
       "      <td>-0.334479</td>\n",
       "      <td>-0.30817</td>\n",
       "      <td>-0.379685</td>\n",
       "      <td>-0.247611</td>\n",
       "      <td>-0.358825</td>\n",
       "      <td>-0.185478</td>\n",
       "      <td>2.885352</td>\n",
       "      <td>0.0</td>\n",
       "    </tr>\n",
       "    <tr>\n",
       "      <th>3</th>\n",
       "      <td>1.424383</td>\n",
       "      <td>-0.304825</td>\n",
       "      <td>-0.223648</td>\n",
       "      <td>-0.033977</td>\n",
       "      <td>-0.342536</td>\n",
       "      <td>-0.215900</td>\n",
       "      <td>5.057943</td>\n",
       "      <td>-0.145405</td>\n",
       "      <td>-0.210427</td>\n",
       "      <td>-0.25385</td>\n",
       "      <td>...</td>\n",
       "      <td>-0.263424</td>\n",
       "      <td>-0.308699</td>\n",
       "      <td>-0.334479</td>\n",
       "      <td>-0.30817</td>\n",
       "      <td>2.633761</td>\n",
       "      <td>-0.247611</td>\n",
       "      <td>-0.358825</td>\n",
       "      <td>-0.185478</td>\n",
       "      <td>-0.346578</td>\n",
       "      <td>0.0</td>\n",
       "    </tr>\n",
       "    <tr>\n",
       "      <th>4</th>\n",
       "      <td>-0.418708</td>\n",
       "      <td>5.191734</td>\n",
       "      <td>0.600184</td>\n",
       "      <td>-0.026719</td>\n",
       "      <td>-0.342536</td>\n",
       "      <td>-0.215900</td>\n",
       "      <td>-0.197709</td>\n",
       "      <td>-0.145405</td>\n",
       "      <td>4.752252</td>\n",
       "      <td>-0.25385</td>\n",
       "      <td>...</td>\n",
       "      <td>-0.263424</td>\n",
       "      <td>-0.308699</td>\n",
       "      <td>2.989724</td>\n",
       "      <td>-0.30817</td>\n",
       "      <td>-0.379685</td>\n",
       "      <td>-0.247611</td>\n",
       "      <td>-0.358825</td>\n",
       "      <td>-0.185478</td>\n",
       "      <td>-0.346578</td>\n",
       "      <td>0.0</td>\n",
       "    </tr>\n",
       "  </tbody>\n",
       "</table>\n",
       "<p>5 rows × 74 columns</p>\n",
       "</div>"
      ],
      "text/plain": [
       "         id  creation_to_launch_days  campaign_days  usd_goal  category_art  \\\n",
       "0  1.721848                -0.347655      -0.223648 -0.033073     -0.342536   \n",
       "1 -1.123219                 0.466121      -0.223648 -0.014499     -0.342536   \n",
       "2  0.662834                -0.297686      -0.717947 -0.031267     -0.342536   \n",
       "3  1.424383                -0.304825      -0.223648 -0.033977     -0.342536   \n",
       "4 -0.418708                 5.191734       0.600184 -0.026719     -0.342536   \n",
       "\n",
       "   category_comics  category_crafts  category_dance  category_design  \\\n",
       "0        -0.215900         5.057943       -0.145405        -0.210427   \n",
       "1         4.631778        -0.197709       -0.145405        -0.210427   \n",
       "2        -0.215900         5.057943       -0.145405        -0.210427   \n",
       "3        -0.215900         5.057943       -0.145405        -0.210427   \n",
       "4        -0.215900        -0.197709       -0.145405         4.752252   \n",
       "\n",
       "   category_fashion  ...  deadline_time_12pm-2pm  deadline_time_2am-4am  \\\n",
       "0          -0.25385  ...               -0.263424              -0.308699   \n",
       "1          -0.25385  ...               -0.263424              -0.308699   \n",
       "2          -0.25385  ...               -0.263424              -0.308699   \n",
       "3          -0.25385  ...               -0.263424              -0.308699   \n",
       "4          -0.25385  ...               -0.263424              -0.308699   \n",
       "\n",
       "   deadline_time_2pm-4pm  deadline_time_4am-6am  deadline_time_4pm-6pm  \\\n",
       "0              -0.334479               -0.30817               2.633761   \n",
       "1              -0.334479               -0.30817              -0.379685   \n",
       "2              -0.334479               -0.30817              -0.379685   \n",
       "3              -0.334479               -0.30817               2.633761   \n",
       "4               2.989724               -0.30817              -0.379685   \n",
       "\n",
       "   deadline_time_6am-8am  deadline_time_6pm-8pm  deadline_time_8am-10am  \\\n",
       "0              -0.247611              -0.358825               -0.185478   \n",
       "1              -0.247611              -0.358825               -0.185478   \n",
       "2              -0.247611              -0.358825               -0.185478   \n",
       "3              -0.247611              -0.358825               -0.185478   \n",
       "4              -0.247611              -0.358825               -0.185478   \n",
       "\n",
       "   deadline_time_8pm-10pm  deadline_time_nan  \n",
       "0               -0.346578                0.0  \n",
       "1               -0.346578                0.0  \n",
       "2                2.885352                0.0  \n",
       "3               -0.346578                0.0  \n",
       "4               -0.346578                0.0  \n",
       "\n",
       "[5 rows x 74 columns]"
      ]
     },
     "execution_count": 13,
     "metadata": {},
     "output_type": "execute_result"
    }
   ],
   "source": [
    "scaler = StandardScaler()\n",
    "X = pd.DataFrame(scaler.fit_transform(X_unscaled), columns=list(X_unscaled.columns))\n",
    "X.head()"
   ]
  },
  {
   "cell_type": "code",
   "execution_count": 14,
   "metadata": {},
   "outputs": [],
   "source": [
    "# Splitting Dataset into train and test set \n",
    "X_train, X_test, y_train, y_test = train_test_split(X, y, test_size=0.25, random_state=42)"
   ]
  },
  {
   "cell_type": "code",
   "execution_count": 15,
   "metadata": {},
   "outputs": [
    {
     "data": {
      "text/plain": [
       "LogisticRegression()"
      ]
     },
     "execution_count": 15,
     "metadata": {},
     "output_type": "execute_result"
    }
   ],
   "source": [
    "# Fitting a logistic regression model with default parameters\n",
    "logreg = LogisticRegression()\n",
    "logreg.fit(X_train,y_train)"
   ]
  },
  {
   "cell_type": "code",
   "execution_count": 18,
   "metadata": {},
   "outputs": [],
   "source": [
    "# Making predictions\n",
    "y_hat_train = logreg.predict(X_train)\n",
    "y_hat_logreg = logreg.predict(X_test)"
   ]
  },
  {
   "cell_type": "code",
   "execution_count": 19,
   "metadata": {},
   "outputs": [
    {
     "name": "stdout",
     "output_type": "stream",
     "text": [
      "Logistic regression score for test set: 0.72324\n",
      "\n",
      "Classification report:\n",
      "              precision    recall  f1-score   support\n",
      "\n",
      "           0       0.68      0.46      0.55     18244\n",
      "           1       0.74      0.88      0.80     31406\n",
      "\n",
      "    accuracy                           0.72     49650\n",
      "   macro avg       0.71      0.67      0.67     49650\n",
      "weighted avg       0.72      0.72      0.71     49650\n",
      "\n"
     ]
    }
   ],
   "source": [
    "# Logistic regression scores\n",
    "print(\"Logistic regression score for test set:\", round(logreg.score(X_test, y_test),5))\n",
    "print(\"\\nClassification report:\")\n",
    "print(classification_report(y_test, y_hat_logreg))"
   ]
  },
  {
   "cell_type": "code",
   "execution_count": 20,
   "metadata": {},
   "outputs": [],
   "source": [
    "def plot_cf(y_true, y_pred, class_names=None, model_name=None):\n",
    "    \"\"\"Plots a confusion matrix\"\"\"\n",
    "    cf = confusion_matrix(y_true, y_pred)\n",
    "    plt.imshow(cf, cmap=plt.cm.Blues)\n",
    "    plt.grid(b=None)\n",
    "    if model_name:\n",
    "        plt.title(\"Confusion Matrix: {}\".format(model_name))\n",
    "    else:\n",
    "        plt.title(\"Confusion Matrix\")\n",
    "    plt.ylabel('True Label')\n",
    "    plt.xlabel('Predicted Label')\n",
    "    \n",
    "    class_names = set(y_true)\n",
    "    tick_marks = np.arange(len(class_names))\n",
    "    if class_names:\n",
    "        plt.xticks(tick_marks, class_names)\n",
    "        plt.yticks(tick_marks, class_names)\n",
    "    \n",
    "    thresh = cf.max() / 2.\n",
    "    \n",
    "    for i, j in itertools.product(range(cf.shape[0]), range(cf.shape[1])):\n",
    "        plt.text(j, i, cf[i, j], horizontalalignment='center', color='white' if cf[i, j] > thresh else 'black')\n",
    "\n",
    "    plt.colorbar()"
   ]
  },
  {
   "cell_type": "code",
   "execution_count": 21,
   "metadata": {},
   "outputs": [
    {
     "data": {
      "image/png": "[encoded data removed]",
      "text/plain": [
       "<Figure size 432x288 with 2 Axes>"
      ]
     },
     "metadata": {
      "needs_background": "light"
     },
     "output_type": "display_data"
    }
   ],
   "source": [
    "# Confusion matrix\n",
    "plot_cf(y_test, y_hat_logreg)"
   ]
  },
  {
   "cell_type": "code",
   "execution_count": 22,
   "metadata": {},
   "outputs": [],
   "source": [
    "# Your data\n",
    "data = logreg.coef_\n",
    "labels = X.columns"
   ]
  },
  {
   "cell_type": "code",
   "execution_count": 23,
   "metadata": {},
   "outputs": [
    {
     "data": {
      "text/plain": [
       "(1, 74)"
      ]
     },
     "execution_count": 23,
     "metadata": {},
     "output_type": "execute_result"
    }
   ],
   "source": [
    "logreg.coef_.shape"
   ]
  },
  {
   "cell_type": "code",
   "execution_count": 24,
   "metadata": {},
   "outputs": [
    {
     "data": {
      "image/png": "[encoded data removed]",
      "text/plain": [
       "<Figure size 720x720 with 1 Axes>"
      ]
     },
     "metadata": {
      "needs_background": "light"
     },
     "output_type": "display_data"
    }
   ],
   "source": [
    "fig,ax=plt.subplots(figsize=(10,10))\n",
    "ax.bar(np.arange(30), data.ravel()[:30])\n",
    "ax.set_xticks(np.arange(30))\n",
    "ax.set_xticklabels(labels[:30], rotation=90)\n",
    "ax.set_xticks(np.arange(30))\n",
    "ax.set_ylim([-1,1]);\n",
    "#high coefficients: usd goal, categories of comics, games, and music"
   ]
  },
  {
   "cell_type": "code",
   "execution_count": 25,
   "metadata": {},
   "outputs": [
    {
     "data": {
      "image/png": "[encoded data removed]",
      "text/plain": [
       "<Figure size 720x720 with 1 Axes>"
      ]
     },
     "metadata": {
      "needs_background": "light"
     },
     "output_type": "display_data"
    }
   ],
   "source": [
    "fig,ax=plt.subplots(figsize=(10,10))\n",
    "ax.bar(np.arange(30), data.ravel()[30:60])\n",
    "ax.set_xticks(np.arange(30))\n",
    "ax.set_xticklabels(labels[30:60], rotation=90)\n",
    "ax.set_ylim([-1,1]);\n",
    "#high coefficients: staff pick 0 or 1"
   ]
  },
  {
   "cell_type": "code",
   "execution_count": 26,
   "metadata": {},
   "outputs": [
    {
     "data": {
      "image/png": "[encoded data removed]",
      "text/plain": [
       "<Figure size 720x720 with 1 Axes>"
      ]
     },
     "metadata": {
      "needs_background": "light"
     },
     "output_type": "display_data"
    }
   ],
   "source": [
    "fig,ax=plt.subplots(figsize=(10,10))\n",
    "ax.bar(np.arange(14), data.ravel()[60:74])\n",
    "ax.set_xticks(np.arange(14))\n",
    "ax.set_xticklabels(labels[60:74], rotation=90)\n",
    "ax.set_ylim([-1,1]);"
   ]
  },
  {
   "cell_type": "markdown",
   "metadata": {},
   "source": [
    "### random forest"
   ]
  },
  {
   "cell_type": "code",
   "execution_count": 27,
   "metadata": {},
   "outputs": [
    {
     "name": "stdout",
     "output_type": "stream",
     "text": [
      "Accuracy score: 0.777\n",
      "f1 score: 0.7705892761781368\n"
     ]
    }
   ],
   "source": [
    "# Train and fit model                                                   \n",
    "rf = RandomForestClassifier(random_state=1,n_jobs=-1)\n",
    "\n",
    "rf.fit(X_train, y_train)\n",
    "                                     \n",
    "# Test Prediction\n",
    "y_hat_rf = rf.predict(X_test)\n",
    "\n",
    "# Printing evaluation metric (accuracy-score) \n",
    "print('Accuracy score: {:.3}'.format(rf.score(X_test, y_test)))\n",
    "\n",
    "# Printing evaluation metric (f1-score) \n",
    "print(\"f1 score: {}\".format(f1_score(y_test, y_hat_rf, average = 'weighted')))"
   ]
  },
  {
   "cell_type": "code",
   "execution_count": 28,
   "metadata": {},
   "outputs": [
    {
     "name": "stdout",
     "output_type": "stream",
     "text": [
      "Random Forest Classifier score for test set: 0.77702\n",
      "\n",
      "Classification report:\n",
      "              precision    recall  f1-score   support\n",
      "\n",
      "           0       0.75      0.59      0.66     18244\n",
      "           1       0.79      0.88      0.83     31406\n",
      "\n",
      "    accuracy                           0.78     49650\n",
      "   macro avg       0.77      0.74      0.75     49650\n",
      "weighted avg       0.77      0.78      0.77     49650\n",
      "\n"
     ]
    }
   ],
   "source": [
    "print(\"Random Forest Classifier score for test set:\", round(rf.score(X_test, y_test),5))\n",
    "print(\"\\nClassification report:\")\n",
    "print(classification_report(y_test, y_hat_rf))"
   ]
  },
  {
   "cell_type": "code",
   "execution_count": 29,
   "metadata": {},
   "outputs": [
    {
     "data": {
      "text/plain": [
       "array([1.70531430e-01, 1.62307638e-01, 9.78560897e-02, 2.18975249e-01,\n",
       "       6.77672148e-03, 9.11745890e-03, 4.84572137e-03, 3.20669839e-03,\n",
       "       4.52509942e-03, 4.63147859e-03, 7.38650654e-03, 1.56273187e-02,\n",
       "       4.92164526e-03, 8.64458446e-03, 7.31068758e-03, 4.56842667e-03,\n",
       "       5.68314858e-03, 7.28028825e-03, 0.00000000e+00, 9.61930656e-04,\n",
       "       3.73614541e-03, 1.02853089e-03, 5.95477065e-03, 1.04424253e-03,\n",
       "       3.53397533e-03, 1.32091969e-03, 2.64016513e-03, 3.01900726e-03,\n",
       "       7.61733728e-03, 3.93599569e-05, 1.83993385e-03, 1.01306579e-03,\n",
       "       2.91647418e-03, 9.07680243e-04, 1.13919301e-04, 3.49805337e-03,\n",
       "       2.24129560e-03, 8.65458666e-04, 1.35385292e-03, 8.93041319e-05,\n",
       "       2.00343669e-03, 1.08548511e-03, 1.81298504e-05, 1.19320313e-02,\n",
       "       0.00000000e+00, 2.64037827e-02, 3.36573024e-02, 0.00000000e+00,\n",
       "       4.16848098e-03, 6.21502699e-03, 5.57487317e-03, 5.14735324e-03,\n",
       "       5.28301999e-03, 6.12499954e-03, 4.82568144e-03, 7.10183170e-03,\n",
       "       4.32203674e-03, 7.18805960e-03, 3.87874691e-03, 6.51080449e-03,\n",
       "       0.00000000e+00, 3.98388751e-03, 6.73112375e-03, 5.70277562e-03,\n",
       "       4.20265303e-03, 6.61619880e-03, 5.65384285e-03, 6.39956093e-03,\n",
       "       7.04849142e-03, 5.56509037e-03, 6.81425490e-03, 3.62646999e-03,\n",
       "       6.28295497e-03, 0.00000000e+00])"
      ]
     },
     "execution_count": 29,
     "metadata": {},
     "output_type": "execute_result"
    }
   ],
   "source": [
    "rf.feature_importances_"
   ]
  },
  {
   "cell_type": "code",
   "execution_count": 30,
   "metadata": {},
   "outputs": [
    {
     "data": {
      "image/png": "[encoded data removed]",
      "text/plain": [
       "<Figure size 432x288 with 2 Axes>"
      ]
     },
     "metadata": {
      "needs_background": "light"
     },
     "output_type": "display_data"
    }
   ],
   "source": [
    "# Confusion matrix\n",
    "plot_cf(y_test, y_hat_rf)"
   ]
  },
  {
   "cell_type": "code",
   "execution_count": 31,
   "metadata": {},
   "outputs": [],
   "source": [
    "def plot_feature_importance(importance,names,model_type):\n",
    "\n",
    "    #Create arrays from feature importance and feature names\n",
    "    feature_importance = np.array(importance)\n",
    "    feature_names = np.array(names)\n",
    "\n",
    "    #Create a DataFrame using a Dictionary\n",
    "    data={'feature_names':feature_names,'feature_importance':feature_importance}\n",
    "    fi_df = pd.DataFrame(data)\n",
    "\n",
    "    #Sort the DataFrame in order decreasing feature importance\n",
    "    fi_df.sort_values(by=['feature_importance'], ascending=False,inplace=True)\n",
    "\n",
    "    #Define size of bar plot\n",
    "    plt.figure(figsize=(10,8))\n",
    "    #Plot Searborn bar chart\n",
    "    sns.barplot(x=fi_df['feature_importance'][:40], y=fi_df['feature_names'][:40])\n",
    "    #Add chart labels\n",
    "    plt.title(model_type + '', fontsize=20)\n",
    "    plt.xlabel('Feature Importance', fontsize=13)\n",
    "    plt.ylabel('Feature Names', fontsize=13)"
   ]
  },
  {
   "cell_type": "code",
   "execution_count": 32,
   "metadata": {
    "scrolled": true
   },
   "outputs": [
    {
     "data": {
      "image/png": "[encoded data removed]",
      "text/plain": [
       "<Figure size 720x576 with 1 Axes>"
      ]
     },
     "metadata": {
      "needs_background": "light"
     },
     "output_type": "display_data"
    }
   ],
   "source": [
    "plot_feature_importance(rf.feature_importances_, X.columns,'Random Forest Classifier')"
   ]
  },
  {
   "cell_type": "code",
   "execution_count": 66,
   "metadata": {},
   "outputs": [
    {
     "data": {
      "text/html": [
       "<div>\n",
       "<style scoped>\n",
       "    .dataframe tbody tr th:only-of-type {\n",
       "        vertical-align: middle;\n",
       "    }\n",
       "\n",
       "    .dataframe tbody tr th {\n",
       "        vertical-align: top;\n",
       "    }\n",
       "\n",
       "    .dataframe thead th {\n",
       "        text-align: right;\n",
       "    }\n",
       "</style>\n",
       "<table border=\"1\" class=\"dataframe\">\n",
       "  <thead>\n",
       "    <tr style=\"text-align: right;\">\n",
       "      <th></th>\n",
       "      <th>id</th>\n",
       "      <th>creation_to_launch_days</th>\n",
       "      <th>campaign_days</th>\n",
       "      <th>usd_goal</th>\n",
       "      <th>category_art</th>\n",
       "      <th>category_comics</th>\n",
       "      <th>category_crafts</th>\n",
       "      <th>category_dance</th>\n",
       "      <th>category_design</th>\n",
       "      <th>category_fashion</th>\n",
       "      <th>...</th>\n",
       "      <th>deadline_time_2pm-4pm</th>\n",
       "      <th>deadline_time_4am-6am</th>\n",
       "      <th>deadline_time_4pm-6pm</th>\n",
       "      <th>deadline_time_6am-8am</th>\n",
       "      <th>deadline_time_6pm-8pm</th>\n",
       "      <th>deadline_time_8am-10am</th>\n",
       "      <th>deadline_time_8pm-10pm</th>\n",
       "      <th>deadline_time_nan</th>\n",
       "      <th>pred</th>\n",
       "      <th>actual</th>\n",
       "    </tr>\n",
       "  </thead>\n",
       "  <tbody>\n",
       "    <tr>\n",
       "      <th>98131</th>\n",
       "      <td>-0.486900</td>\n",
       "      <td>-0.233441</td>\n",
       "      <td>0.600184</td>\n",
       "      <td>-0.028185</td>\n",
       "      <td>-0.342536</td>\n",
       "      <td>-0.2159</td>\n",
       "      <td>-0.197709</td>\n",
       "      <td>-0.145405</td>\n",
       "      <td>-0.210427</td>\n",
       "      <td>-0.25385</td>\n",
       "      <td>...</td>\n",
       "      <td>-0.334479</td>\n",
       "      <td>3.244958</td>\n",
       "      <td>-0.379685</td>\n",
       "      <td>-0.247611</td>\n",
       "      <td>-0.358825</td>\n",
       "      <td>-0.185478</td>\n",
       "      <td>-0.346578</td>\n",
       "      <td>0.0</td>\n",
       "      <td>1</td>\n",
       "      <td>1</td>\n",
       "    </tr>\n",
       "    <tr>\n",
       "      <th>192546</th>\n",
       "      <td>0.372340</td>\n",
       "      <td>-0.304825</td>\n",
       "      <td>1.012099</td>\n",
       "      <td>-0.027433</td>\n",
       "      <td>-0.342536</td>\n",
       "      <td>-0.2159</td>\n",
       "      <td>-0.197709</td>\n",
       "      <td>-0.145405</td>\n",
       "      <td>-0.210427</td>\n",
       "      <td>-0.25385</td>\n",
       "      <td>...</td>\n",
       "      <td>-0.334479</td>\n",
       "      <td>-0.308170</td>\n",
       "      <td>-0.379685</td>\n",
       "      <td>4.038590</td>\n",
       "      <td>-0.358825</td>\n",
       "      <td>-0.185478</td>\n",
       "      <td>-0.346578</td>\n",
       "      <td>0.0</td>\n",
       "      <td>1</td>\n",
       "      <td>0</td>\n",
       "    </tr>\n",
       "    <tr>\n",
       "      <th>182786</th>\n",
       "      <td>0.921176</td>\n",
       "      <td>-0.219164</td>\n",
       "      <td>-0.223648</td>\n",
       "      <td>-0.026916</td>\n",
       "      <td>-0.342536</td>\n",
       "      <td>-0.2159</td>\n",
       "      <td>-0.197709</td>\n",
       "      <td>-0.145405</td>\n",
       "      <td>-0.210427</td>\n",
       "      <td>-0.25385</td>\n",
       "      <td>...</td>\n",
       "      <td>-0.334479</td>\n",
       "      <td>-0.308170</td>\n",
       "      <td>-0.379685</td>\n",
       "      <td>-0.247611</td>\n",
       "      <td>-0.358825</td>\n",
       "      <td>-0.185478</td>\n",
       "      <td>-0.346578</td>\n",
       "      <td>0.0</td>\n",
       "      <td>1</td>\n",
       "      <td>1</td>\n",
       "    </tr>\n",
       "    <tr>\n",
       "      <th>23943</th>\n",
       "      <td>1.040396</td>\n",
       "      <td>-0.311963</td>\n",
       "      <td>-0.223648</td>\n",
       "      <td>-0.032487</td>\n",
       "      <td>-0.342536</td>\n",
       "      <td>-0.2159</td>\n",
       "      <td>-0.197709</td>\n",
       "      <td>-0.145405</td>\n",
       "      <td>-0.210427</td>\n",
       "      <td>-0.25385</td>\n",
       "      <td>...</td>\n",
       "      <td>2.989724</td>\n",
       "      <td>-0.308170</td>\n",
       "      <td>-0.379685</td>\n",
       "      <td>-0.247611</td>\n",
       "      <td>-0.358825</td>\n",
       "      <td>-0.185478</td>\n",
       "      <td>-0.346578</td>\n",
       "      <td>0.0</td>\n",
       "      <td>1</td>\n",
       "      <td>1</td>\n",
       "    </tr>\n",
       "    <tr>\n",
       "      <th>79600</th>\n",
       "      <td>0.716784</td>\n",
       "      <td>0.016403</td>\n",
       "      <td>-0.223648</td>\n",
       "      <td>-0.024275</td>\n",
       "      <td>-0.342536</td>\n",
       "      <td>-0.2159</td>\n",
       "      <td>-0.197709</td>\n",
       "      <td>-0.145405</td>\n",
       "      <td>-0.210427</td>\n",
       "      <td>-0.25385</td>\n",
       "      <td>...</td>\n",
       "      <td>-0.334479</td>\n",
       "      <td>-0.308170</td>\n",
       "      <td>-0.379685</td>\n",
       "      <td>-0.247611</td>\n",
       "      <td>-0.358825</td>\n",
       "      <td>-0.185478</td>\n",
       "      <td>-0.346578</td>\n",
       "      <td>0.0</td>\n",
       "      <td>1</td>\n",
       "      <td>1</td>\n",
       "    </tr>\n",
       "    <tr>\n",
       "      <th>...</th>\n",
       "      <td>...</td>\n",
       "      <td>...</td>\n",
       "      <td>...</td>\n",
       "      <td>...</td>\n",
       "      <td>...</td>\n",
       "      <td>...</td>\n",
       "      <td>...</td>\n",
       "      <td>...</td>\n",
       "      <td>...</td>\n",
       "      <td>...</td>\n",
       "      <td>...</td>\n",
       "      <td>...</td>\n",
       "      <td>...</td>\n",
       "      <td>...</td>\n",
       "      <td>...</td>\n",
       "      <td>...</td>\n",
       "      <td>...</td>\n",
       "      <td>...</td>\n",
       "      <td>...</td>\n",
       "      <td>...</td>\n",
       "      <td>...</td>\n",
       "    </tr>\n",
       "    <tr>\n",
       "      <th>142270</th>\n",
       "      <td>-1.104050</td>\n",
       "      <td>-0.190610</td>\n",
       "      <td>-0.223648</td>\n",
       "      <td>0.097924</td>\n",
       "      <td>2.919400</td>\n",
       "      <td>-0.2159</td>\n",
       "      <td>-0.197709</td>\n",
       "      <td>-0.145405</td>\n",
       "      <td>-0.210427</td>\n",
       "      <td>-0.25385</td>\n",
       "      <td>...</td>\n",
       "      <td>-0.334479</td>\n",
       "      <td>-0.308170</td>\n",
       "      <td>2.633761</td>\n",
       "      <td>-0.247611</td>\n",
       "      <td>-0.358825</td>\n",
       "      <td>-0.185478</td>\n",
       "      <td>-0.346578</td>\n",
       "      <td>0.0</td>\n",
       "      <td>0</td>\n",
       "      <td>0</td>\n",
       "    </tr>\n",
       "    <tr>\n",
       "      <th>184941</th>\n",
       "      <td>0.106135</td>\n",
       "      <td>-0.354793</td>\n",
       "      <td>-0.223648</td>\n",
       "      <td>-0.031118</td>\n",
       "      <td>2.919400</td>\n",
       "      <td>-0.2159</td>\n",
       "      <td>-0.197709</td>\n",
       "      <td>-0.145405</td>\n",
       "      <td>-0.210427</td>\n",
       "      <td>-0.25385</td>\n",
       "      <td>...</td>\n",
       "      <td>-0.334479</td>\n",
       "      <td>-0.308170</td>\n",
       "      <td>-0.379685</td>\n",
       "      <td>-0.247611</td>\n",
       "      <td>2.786873</td>\n",
       "      <td>-0.185478</td>\n",
       "      <td>-0.346578</td>\n",
       "      <td>0.0</td>\n",
       "      <td>0</td>\n",
       "      <td>0</td>\n",
       "    </tr>\n",
       "    <tr>\n",
       "      <th>92247</th>\n",
       "      <td>1.058745</td>\n",
       "      <td>0.037818</td>\n",
       "      <td>-0.223648</td>\n",
       "      <td>-0.032709</td>\n",
       "      <td>-0.342536</td>\n",
       "      <td>-0.2159</td>\n",
       "      <td>-0.197709</td>\n",
       "      <td>-0.145405</td>\n",
       "      <td>4.752252</td>\n",
       "      <td>-0.25385</td>\n",
       "      <td>...</td>\n",
       "      <td>-0.334479</td>\n",
       "      <td>-0.308170</td>\n",
       "      <td>-0.379685</td>\n",
       "      <td>-0.247611</td>\n",
       "      <td>-0.358825</td>\n",
       "      <td>-0.185478</td>\n",
       "      <td>-0.346578</td>\n",
       "      <td>0.0</td>\n",
       "      <td>1</td>\n",
       "      <td>1</td>\n",
       "    </tr>\n",
       "    <tr>\n",
       "      <th>107572</th>\n",
       "      <td>-0.086587</td>\n",
       "      <td>-0.347655</td>\n",
       "      <td>-0.223648</td>\n",
       "      <td>-0.033562</td>\n",
       "      <td>-0.342536</td>\n",
       "      <td>-0.2159</td>\n",
       "      <td>-0.197709</td>\n",
       "      <td>-0.145405</td>\n",
       "      <td>-0.210427</td>\n",
       "      <td>-0.25385</td>\n",
       "      <td>...</td>\n",
       "      <td>-0.334479</td>\n",
       "      <td>-0.308170</td>\n",
       "      <td>-0.379685</td>\n",
       "      <td>-0.247611</td>\n",
       "      <td>-0.358825</td>\n",
       "      <td>-0.185478</td>\n",
       "      <td>-0.346578</td>\n",
       "      <td>0.0</td>\n",
       "      <td>0</td>\n",
       "      <td>1</td>\n",
       "    </tr>\n",
       "    <tr>\n",
       "      <th>64677</th>\n",
       "      <td>0.047192</td>\n",
       "      <td>-0.140642</td>\n",
       "      <td>1.012099</td>\n",
       "      <td>-0.029960</td>\n",
       "      <td>-0.342536</td>\n",
       "      <td>-0.2159</td>\n",
       "      <td>-0.197709</td>\n",
       "      <td>-0.145405</td>\n",
       "      <td>-0.210427</td>\n",
       "      <td>-0.25385</td>\n",
       "      <td>...</td>\n",
       "      <td>-0.334479</td>\n",
       "      <td>-0.308170</td>\n",
       "      <td>-0.379685</td>\n",
       "      <td>-0.247611</td>\n",
       "      <td>-0.358825</td>\n",
       "      <td>-0.185478</td>\n",
       "      <td>-0.346578</td>\n",
       "      <td>0.0</td>\n",
       "      <td>0</td>\n",
       "      <td>0</td>\n",
       "    </tr>\n",
       "  </tbody>\n",
       "</table>\n",
       "<p>49650 rows × 76 columns</p>\n",
       "</div>"
      ],
      "text/plain": [
       "              id  creation_to_launch_days  campaign_days  usd_goal  \\\n",
       "98131  -0.486900                -0.233441       0.600184 -0.028185   \n",
       "192546  0.372340                -0.304825       1.012099 -0.027433   \n",
       "182786  0.921176                -0.219164      -0.223648 -0.026916   \n",
       "23943   1.040396                -0.311963      -0.223648 -0.032487   \n",
       "79600   0.716784                 0.016403      -0.223648 -0.024275   \n",
       "...          ...                      ...            ...       ...   \n",
       "142270 -1.104050                -0.190610      -0.223648  0.097924   \n",
       "184941  0.106135                -0.354793      -0.223648 -0.031118   \n",
       "92247   1.058745                 0.037818      -0.223648 -0.032709   \n",
       "107572 -0.086587                -0.347655      -0.223648 -0.033562   \n",
       "64677   0.047192                -0.140642       1.012099 -0.029960   \n",
       "\n",
       "        category_art  category_comics  category_crafts  category_dance  \\\n",
       "98131      -0.342536          -0.2159        -0.197709       -0.145405   \n",
       "192546     -0.342536          -0.2159        -0.197709       -0.145405   \n",
       "182786     -0.342536          -0.2159        -0.197709       -0.145405   \n",
       "23943      -0.342536          -0.2159        -0.197709       -0.145405   \n",
       "79600      -0.342536          -0.2159        -0.197709       -0.145405   \n",
       "...              ...              ...              ...             ...   \n",
       "142270      2.919400          -0.2159        -0.197709       -0.145405   \n",
       "184941      2.919400          -0.2159        -0.197709       -0.145405   \n",
       "92247      -0.342536          -0.2159        -0.197709       -0.145405   \n",
       "107572     -0.342536          -0.2159        -0.197709       -0.145405   \n",
       "64677      -0.342536          -0.2159        -0.197709       -0.145405   \n",
       "\n",
       "        category_design  category_fashion  ...  deadline_time_2pm-4pm  \\\n",
       "98131         -0.210427          -0.25385  ...              -0.334479   \n",
       "192546        -0.210427          -0.25385  ...              -0.334479   \n",
       "182786        -0.210427          -0.25385  ...              -0.334479   \n",
       "23943         -0.210427          -0.25385  ...               2.989724   \n",
       "79600         -0.210427          -0.25385  ...              -0.334479   \n",
       "...                 ...               ...  ...                    ...   \n",
       "142270        -0.210427          -0.25385  ...              -0.334479   \n",
       "184941        -0.210427          -0.25385  ...              -0.334479   \n",
       "92247          4.752252          -0.25385  ...              -0.334479   \n",
       "107572        -0.210427          -0.25385  ...              -0.334479   \n",
       "64677         -0.210427          -0.25385  ...              -0.334479   \n",
       "\n",
       "        deadline_time_4am-6am  deadline_time_4pm-6pm  deadline_time_6am-8am  \\\n",
       "98131                3.244958              -0.379685              -0.247611   \n",
       "192546              -0.308170              -0.379685               4.038590   \n",
       "182786              -0.308170              -0.379685              -0.247611   \n",
       "23943               -0.308170              -0.379685              -0.247611   \n",
       "79600               -0.308170              -0.379685              -0.247611   \n",
       "...                       ...                    ...                    ...   \n",
       "142270              -0.308170               2.633761              -0.247611   \n",
       "184941              -0.308170              -0.379685              -0.247611   \n",
       "92247               -0.308170              -0.379685              -0.247611   \n",
       "107572              -0.308170              -0.379685              -0.247611   \n",
       "64677               -0.308170              -0.379685              -0.247611   \n",
       "\n",
       "        deadline_time_6pm-8pm  deadline_time_8am-10am  deadline_time_8pm-10pm  \\\n",
       "98131               -0.358825               -0.185478               -0.346578   \n",
       "192546              -0.358825               -0.185478               -0.346578   \n",
       "182786              -0.358825               -0.185478               -0.346578   \n",
       "23943               -0.358825               -0.185478               -0.346578   \n",
       "79600               -0.358825               -0.185478               -0.346578   \n",
       "...                       ...                     ...                     ...   \n",
       "142270              -0.358825               -0.185478               -0.346578   \n",
       "184941               2.786873               -0.185478               -0.346578   \n",
       "92247               -0.358825               -0.185478               -0.346578   \n",
       "107572              -0.358825               -0.185478               -0.346578   \n",
       "64677               -0.358825               -0.185478               -0.346578   \n",
       "\n",
       "        deadline_time_nan  pred  actual  \n",
       "98131                 0.0     1       1  \n",
       "192546                0.0     1       0  \n",
       "182786                0.0     1       1  \n",
       "23943                 0.0     1       1  \n",
       "79600                 0.0     1       1  \n",
       "...                   ...   ...     ...  \n",
       "142270                0.0     0       0  \n",
       "184941                0.0     0       0  \n",
       "92247                 0.0     1       1  \n",
       "107572                0.0     0       1  \n",
       "64677                 0.0     0       0  \n",
       "\n",
       "[49650 rows x 76 columns]"
      ]
     },
     "execution_count": 66,
     "metadata": {},
     "output_type": "execute_result"
    }
   ],
   "source": [
    "X_test"
   ]
  },
  {
   "cell_type": "code",
   "execution_count": 37,
   "metadata": {},
   "outputs": [],
   "source": [
    "res_df = pd.DataFrame(X_test, columns=X.columns)\n",
    "res_df['pred'] = y_hat_rf\n",
    "res_df['actual'] = y_test.values"
   ]
  },
  {
   "cell_type": "code",
   "execution_count": 39,
   "metadata": {},
   "outputs": [],
   "source": [
    "misclass_df = res_df[(res_df['pred'] - res_df['actual']) != 0]"
   ]
  },
  {
   "cell_type": "code",
   "execution_count": 40,
   "metadata": {},
   "outputs": [],
   "source": [
    "correct_class_df = res_df[(res_df['pred'] - res_df['actual']) == 0]"
   ]
  },
  {
   "cell_type": "code",
   "execution_count": 68,
   "metadata": {},
   "outputs": [],
   "source": [
    "misclass_obs = misclass_df.mean(axis=0)"
   ]
  },
  {
   "cell_type": "code",
   "execution_count": 69,
   "metadata": {},
   "outputs": [
    {
     "data": {
      "image/png": "[encoded data removed]",
      "text/plain": [
       "<Figure size 720x720 with 1 Axes>"
      ]
     },
     "metadata": {
      "needs_background": "light"
     },
     "output_type": "display_data"
    }
   ],
   "source": [
    "fig,ax=plt.subplots(figsize=(10,10))\n",
    "ax.bar(np.arange(30), misclass_obs.values.ravel()[:30], color='red')\n",
    "ax.set_xticks(np.arange(30))\n",
    "ax.set_xticklabels(misclass_obs.index[:30], rotation=90)\n",
    "ax.set_xticks(np.arange(30));"
   ]
  },
  {
   "cell_type": "code",
   "execution_count": 72,
   "metadata": {},
   "outputs": [
    {
     "data": {
      "image/png": "[encoded data removed]",
      "text/plain": [
       "<Figure size 1008x720 with 1 Axes>"
      ]
     },
     "metadata": {
      "needs_background": "light"
     },
     "output_type": "display_data"
    }
   ],
   "source": [
    "fig,ax=plt.subplots(figsize=(14,10))\n",
    "ax.bar(np.arange(20)-0.2, misclass_obs.values.ravel()[:20], color='red', width=0.3)\n",
    "ax.bar(np.arange(20)+0.2, corr_class_obs.values.ravel()[:20], color='green', width=0.3)\n",
    "ax.set_xticks(np.arange(20))\n",
    "ax.set_xticklabels(misclass_obs.index[:20], rotation=90)\n",
    "ax.set_xticks(np.arange(20));\n",
    "#ax.set_ylim([-1,1]);\n",
    "#high coefficients: usd goal, categories of comics, games, and music"
   ]
  },
  {
   "cell_type": "code",
   "execution_count": 71,
   "metadata": {},
   "outputs": [],
   "source": [
    "corr_class_obs = correct_class_df.mean(axis=0)"
   ]
  },
  {
   "cell_type": "code",
   "execution_count": 56,
   "metadata": {},
   "outputs": [
    {
     "data": {
      "image/png": "[encoded data removed]",
      "text/plain": [
       "<Figure size 720x720 with 1 Axes>"
      ]
     },
     "metadata": {
      "needs_background": "light"
     },
     "output_type": "display_data"
    }
   ],
   "source": [
    "fig,ax=plt.subplots(figsize=(10,10))\n",
    "ax.bar(np.arange(30), corr_class_obs.values.ravel()[:30])\n",
    "ax.set_xticks(np.arange(30))\n",
    "ax.set_xticklabels(corr_class_obs.index[:30], rotation=90)\n",
    "ax.set_xticks(np.arange(30));"
   ]
  },
  {
   "cell_type": "code",
   "execution_count": 38,
   "metadata": {},
   "outputs": [
    {
     "data": {
      "text/html": [
       "<div>\n",
       "<style scoped>\n",
       "    .dataframe tbody tr th:only-of-type {\n",
       "        vertical-align: middle;\n",
       "    }\n",
       "\n",
       "    .dataframe tbody tr th {\n",
       "        vertical-align: top;\n",
       "    }\n",
       "\n",
       "    .dataframe thead th {\n",
       "        text-align: right;\n",
       "    }\n",
       "</style>\n",
       "<table border=\"1\" class=\"dataframe\">\n",
       "  <thead>\n",
       "    <tr style=\"text-align: right;\">\n",
       "      <th></th>\n",
       "      <th>id</th>\n",
       "      <th>creation_to_launch_days</th>\n",
       "      <th>campaign_days</th>\n",
       "      <th>usd_goal</th>\n",
       "      <th>category_art</th>\n",
       "      <th>category_comics</th>\n",
       "      <th>category_crafts</th>\n",
       "      <th>category_dance</th>\n",
       "      <th>category_design</th>\n",
       "      <th>category_fashion</th>\n",
       "      <th>...</th>\n",
       "      <th>deadline_time_2pm-4pm</th>\n",
       "      <th>deadline_time_4am-6am</th>\n",
       "      <th>deadline_time_4pm-6pm</th>\n",
       "      <th>deadline_time_6am-8am</th>\n",
       "      <th>deadline_time_6pm-8pm</th>\n",
       "      <th>deadline_time_8am-10am</th>\n",
       "      <th>deadline_time_8pm-10pm</th>\n",
       "      <th>deadline_time_nan</th>\n",
       "      <th>pred</th>\n",
       "      <th>actual</th>\n",
       "    </tr>\n",
       "  </thead>\n",
       "  <tbody>\n",
       "    <tr>\n",
       "      <th>98131</th>\n",
       "      <td>-0.486900</td>\n",
       "      <td>-0.233441</td>\n",
       "      <td>0.600184</td>\n",
       "      <td>-0.028185</td>\n",
       "      <td>-0.342536</td>\n",
       "      <td>-0.2159</td>\n",
       "      <td>-0.197709</td>\n",
       "      <td>-0.145405</td>\n",
       "      <td>-0.210427</td>\n",
       "      <td>-0.25385</td>\n",
       "      <td>...</td>\n",
       "      <td>-0.334479</td>\n",
       "      <td>3.244958</td>\n",
       "      <td>-0.379685</td>\n",
       "      <td>-0.247611</td>\n",
       "      <td>-0.358825</td>\n",
       "      <td>-0.185478</td>\n",
       "      <td>-0.346578</td>\n",
       "      <td>0.0</td>\n",
       "      <td>1</td>\n",
       "      <td>1</td>\n",
       "    </tr>\n",
       "    <tr>\n",
       "      <th>192546</th>\n",
       "      <td>0.372340</td>\n",
       "      <td>-0.304825</td>\n",
       "      <td>1.012099</td>\n",
       "      <td>-0.027433</td>\n",
       "      <td>-0.342536</td>\n",
       "      <td>-0.2159</td>\n",
       "      <td>-0.197709</td>\n",
       "      <td>-0.145405</td>\n",
       "      <td>-0.210427</td>\n",
       "      <td>-0.25385</td>\n",
       "      <td>...</td>\n",
       "      <td>-0.334479</td>\n",
       "      <td>-0.308170</td>\n",
       "      <td>-0.379685</td>\n",
       "      <td>4.038590</td>\n",
       "      <td>-0.358825</td>\n",
       "      <td>-0.185478</td>\n",
       "      <td>-0.346578</td>\n",
       "      <td>0.0</td>\n",
       "      <td>1</td>\n",
       "      <td>0</td>\n",
       "    </tr>\n",
       "    <tr>\n",
       "      <th>182786</th>\n",
       "      <td>0.921176</td>\n",
       "      <td>-0.219164</td>\n",
       "      <td>-0.223648</td>\n",
       "      <td>-0.026916</td>\n",
       "      <td>-0.342536</td>\n",
       "      <td>-0.2159</td>\n",
       "      <td>-0.197709</td>\n",
       "      <td>-0.145405</td>\n",
       "      <td>-0.210427</td>\n",
       "      <td>-0.25385</td>\n",
       "      <td>...</td>\n",
       "      <td>-0.334479</td>\n",
       "      <td>-0.308170</td>\n",
       "      <td>-0.379685</td>\n",
       "      <td>-0.247611</td>\n",
       "      <td>-0.358825</td>\n",
       "      <td>-0.185478</td>\n",
       "      <td>-0.346578</td>\n",
       "      <td>0.0</td>\n",
       "      <td>1</td>\n",
       "      <td>1</td>\n",
       "    </tr>\n",
       "    <tr>\n",
       "      <th>23943</th>\n",
       "      <td>1.040396</td>\n",
       "      <td>-0.311963</td>\n",
       "      <td>-0.223648</td>\n",
       "      <td>-0.032487</td>\n",
       "      <td>-0.342536</td>\n",
       "      <td>-0.2159</td>\n",
       "      <td>-0.197709</td>\n",
       "      <td>-0.145405</td>\n",
       "      <td>-0.210427</td>\n",
       "      <td>-0.25385</td>\n",
       "      <td>...</td>\n",
       "      <td>2.989724</td>\n",
       "      <td>-0.308170</td>\n",
       "      <td>-0.379685</td>\n",
       "      <td>-0.247611</td>\n",
       "      <td>-0.358825</td>\n",
       "      <td>-0.185478</td>\n",
       "      <td>-0.346578</td>\n",
       "      <td>0.0</td>\n",
       "      <td>1</td>\n",
       "      <td>1</td>\n",
       "    </tr>\n",
       "    <tr>\n",
       "      <th>79600</th>\n",
       "      <td>0.716784</td>\n",
       "      <td>0.016403</td>\n",
       "      <td>-0.223648</td>\n",
       "      <td>-0.024275</td>\n",
       "      <td>-0.342536</td>\n",
       "      <td>-0.2159</td>\n",
       "      <td>-0.197709</td>\n",
       "      <td>-0.145405</td>\n",
       "      <td>-0.210427</td>\n",
       "      <td>-0.25385</td>\n",
       "      <td>...</td>\n",
       "      <td>-0.334479</td>\n",
       "      <td>-0.308170</td>\n",
       "      <td>-0.379685</td>\n",
       "      <td>-0.247611</td>\n",
       "      <td>-0.358825</td>\n",
       "      <td>-0.185478</td>\n",
       "      <td>-0.346578</td>\n",
       "      <td>0.0</td>\n",
       "      <td>1</td>\n",
       "      <td>1</td>\n",
       "    </tr>\n",
       "  </tbody>\n",
       "</table>\n",
       "<p>5 rows × 76 columns</p>\n",
       "</div>"
      ],
      "text/plain": [
       "              id  creation_to_launch_days  campaign_days  usd_goal  \\\n",
       "98131  -0.486900                -0.233441       0.600184 -0.028185   \n",
       "192546  0.372340                -0.304825       1.012099 -0.027433   \n",
       "182786  0.921176                -0.219164      -0.223648 -0.026916   \n",
       "23943   1.040396                -0.311963      -0.223648 -0.032487   \n",
       "79600   0.716784                 0.016403      -0.223648 -0.024275   \n",
       "\n",
       "        category_art  category_comics  category_crafts  category_dance  \\\n",
       "98131      -0.342536          -0.2159        -0.197709       -0.145405   \n",
       "192546     -0.342536          -0.2159        -0.197709       -0.145405   \n",
       "182786     -0.342536          -0.2159        -0.197709       -0.145405   \n",
       "23943      -0.342536          -0.2159        -0.197709       -0.145405   \n",
       "79600      -0.342536          -0.2159        -0.197709       -0.145405   \n",
       "\n",
       "        category_design  category_fashion  ...  deadline_time_2pm-4pm  \\\n",
       "98131         -0.210427          -0.25385  ...              -0.334479   \n",
       "192546        -0.210427          -0.25385  ...              -0.334479   \n",
       "182786        -0.210427          -0.25385  ...              -0.334479   \n",
       "23943         -0.210427          -0.25385  ...               2.989724   \n",
       "79600         -0.210427          -0.25385  ...              -0.334479   \n",
       "\n",
       "        deadline_time_4am-6am  deadline_time_4pm-6pm  deadline_time_6am-8am  \\\n",
       "98131                3.244958              -0.379685              -0.247611   \n",
       "192546              -0.308170              -0.379685               4.038590   \n",
       "182786              -0.308170              -0.379685              -0.247611   \n",
       "23943               -0.308170              -0.379685              -0.247611   \n",
       "79600               -0.308170              -0.379685              -0.247611   \n",
       "\n",
       "        deadline_time_6pm-8pm  deadline_time_8am-10am  deadline_time_8pm-10pm  \\\n",
       "98131               -0.358825               -0.185478               -0.346578   \n",
       "192546              -0.358825               -0.185478               -0.346578   \n",
       "182786              -0.358825               -0.185478               -0.346578   \n",
       "23943               -0.358825               -0.185478               -0.346578   \n",
       "79600               -0.358825               -0.185478               -0.346578   \n",
       "\n",
       "        deadline_time_nan  pred  actual  \n",
       "98131                 0.0     1       1  \n",
       "192546                0.0     1       0  \n",
       "182786                0.0     1       1  \n",
       "23943                 0.0     1       1  \n",
       "79600                 0.0     1       1  \n",
       "\n",
       "[5 rows x 76 columns]"
      ]
     },
     "execution_count": 38,
     "metadata": {},
     "output_type": "execute_result"
    }
   ],
   "source": [
    "res_df.head()"
   ]
  },
  {
   "cell_type": "markdown",
   "metadata": {},
   "source": [
    "### gradient boosting "
   ]
  },
  {
   "cell_type": "code",
   "execution_count": 33,
   "metadata": {},
   "outputs": [
    {
     "name": "stdout",
     "output_type": "stream",
     "text": [
      "Accuracy score: 0.758\n",
      "f1 score: 0.7467133164633477\n"
     ]
    }
   ],
   "source": [
    "# Train and fit model                                                   \n",
    "gb = GradientBoostingClassifier(random_state=1)\n",
    "\n",
    "gb.fit(X_train, y_train)\n",
    "                                     \n",
    "# Test Prediction\n",
    "y_hat_gb = gb.predict(X_test)\n",
    "\n",
    "# Printing evaluation metric (accuracy-score) \n",
    "print('Accuracy score: {:.3}'.format(gb.score(X_test, y_test)))\n",
    "\n",
    "# Printing evaluation metric (f1-score) \n",
    "print(\"f1 score: {}\".format(f1_score(y_test, y_hat_gb, average = 'weighted')))"
   ]
  },
  {
   "cell_type": "code",
   "execution_count": 34,
   "metadata": {},
   "outputs": [
    {
     "data": {
      "image/png": "[encoded data removed]",
      "text/plain": [
       "<Figure size 432x288 with 2 Axes>"
      ]
     },
     "metadata": {
      "needs_background": "light"
     },
     "output_type": "display_data"
    }
   ],
   "source": [
    "# Confusion matrix\n",
    "plot_cf(y_test, y_hat_gb)"
   ]
  }
 ],
 "metadata": {
  "kernelspec": {
   "display_name": "Python 3",
   "language": "python",
   "name": "python3"
  },
  "language_info": {
   "codemirror_mode": {
    "name": "ipython",
    "version": 3
   },
   "file_extension": ".py",
   "mimetype": "text/x-python",
   "name": "python",
   "nbconvert_exporter": "python",
   "pygments_lexer": "ipython3",
   "version": "3.7.9"
  }
 },
 "nbformat": 4,
 "nbformat_minor": 4
}
